{
 "cells": [
  {
   "cell_type": "code",
   "execution_count": 2,
   "metadata": {
    "collapsed": true,
    "deletable": true,
    "editable": true
   },
   "outputs": [],
   "source": [
    "import geopandas as gpd\n",
    "import pandas as pd\n",
    "import foursquare\n",
    "from yelpapi import YelpAPI\n",
    "\n",
    "from shapely.geometry import Point"
   ]
  },
  {
   "cell_type": "markdown",
   "metadata": {
    "deletable": true,
    "editable": true
   },
   "source": [
    "## Yelp"
   ]
  },
  {
   "cell_type": "code",
   "execution_count": 3,
   "metadata": {
    "collapsed": true,
    "deletable": true,
    "editable": true
   },
   "outputs": [],
   "source": [
    "yelp_api = YelpAPI('dEW7W1vrAwOL1XDtf3dwTA',\n",
    "                   'hFskWujgXbtGYX0Q3snLngJWk19svrY9FWNTKBRaPGxs41WFAg96NGeHFnPCFuxz')"
   ]
  },
  {
   "cell_type": "code",
   "execution_count": 61,
   "metadata": {
    "collapsed": true,
    "deletable": true,
    "editable": true
   },
   "outputs": [],
   "source": [
    "def yelp_3rdwave(offset=0):\n",
    "    return yelp_api.search_query(\n",
    "        location=\"New York, NY\", \n",
    "        term=\"third wave coffee\", \n",
    "        categories=['coffee'],\n",
    "        limit=50,\n",
    "        offset=offset\n",
    "    )"
   ]
  },
  {
   "cell_type": "code",
   "execution_count": 69,
   "metadata": {
    "collapsed": false,
    "deletable": true,
    "editable": true
   },
   "outputs": [
    {
     "data": {
      "text/plain": [
       "{'categories': [{'alias': 'coffee', 'title': 'Coffee & Tea'}],\n",
       " 'coordinates': {'latitude': 40.7456663381275, 'longitude': -73.9880916348562},\n",
       " 'display_phone': '(855) 711-3385',\n",
       " 'distance': 4502.935412142,\n",
       " 'id': 'stumptown-coffee-roasters-new-york',\n",
       " 'image_url': 'https://s3-media1.fl.yelpcdn.com/bphoto/ShLJSEuevRDUKfb35loEXg/o.jpg',\n",
       " 'is_closed': False,\n",
       " 'location': {'address1': 'The Ace Hotel',\n",
       "  'address2': '20 W 29th St',\n",
       "  'address3': '',\n",
       "  'city': 'New York',\n",
       "  'country': 'US',\n",
       "  'display_address': ['The Ace Hotel', '20 W 29th St', 'New York, NY 10001'],\n",
       "  'state': 'NY',\n",
       "  'zip_code': '10001'},\n",
       " 'name': 'Stumptown Coffee Roasters',\n",
       " 'phone': '+18557113385',\n",
       " 'price': '$$',\n",
       " 'rating': 4.5,\n",
       " 'review_count': 1222,\n",
       " 'transactions': [],\n",
       " 'url': 'https://www.yelp.com/biz/stumptown-coffee-roasters-new-york?adjust_creative=dEW7W1vrAwOL1XDtf3dwTA&utm_campaign=yelp_api_v3&utm_medium=api_v3_business_search&utm_source=dEW7W1vrAwOL1XDtf3dwTA'}"
      ]
     },
     "execution_count": 69,
     "metadata": {},
     "output_type": "execute_result"
    }
   ],
   "source": [
    "yelp_3rdwave()['businesses'][0]"
   ]
  },
  {
   "cell_type": "code",
   "execution_count": 70,
   "metadata": {
    "collapsed": false,
    "deletable": true,
    "editable": true
   },
   "outputs": [
    {
     "name": "stdout",
     "output_type": "stream",
     "text": [
      "Total Coffeeshops: 375\n",
      "0\n",
      "50\n",
      "100\n",
      "150\n",
      "200\n",
      "250\n",
      "300\n",
      "350\n"
     ]
    }
   ],
   "source": [
    "name = []\n",
    "geometry = []\n",
    "address = []\n",
    "ids = []\n",
    "ratings = []\n",
    "\n",
    "offset = 0\n",
    "total_results = yelp_3rdwave()['total']\n",
    "\n",
    "print('Total Coffeeshops:', total_results)\n",
    "\n",
    "while offset < total_results:\n",
    "    print(offset)    \n",
    "    for biz in yelp_3rdwave(offset)['businesses']:        \n",
    "        name.append(biz['name'])\n",
    "        geometry.append(Point(biz['coordinates']['longitude'], biz['coordinates']['latitude']))\n",
    "        address.append(\" \".join(biz['location']['display_address']))\n",
    "        ids.append(biz['id'])\n",
    "        ratings.append(biz['rating'])\n",
    "    \n",
    "    offset += 50"
   ]
  },
  {
   "cell_type": "code",
   "execution_count": 71,
   "metadata": {
    "collapsed": false,
    "deletable": true,
    "editable": true
   },
   "outputs": [],
   "source": [
    "columns = {'coffeeshop_name': name, 'geometry': geometry, 'address': address, 'yelp_id': ids}\n",
    "yelpDf = gpd.GeoDataFrame(columns)"
   ]
  },
  {
   "cell_type": "code",
   "execution_count": 72,
   "metadata": {
    "collapsed": false,
    "deletable": true,
    "editable": true
   },
   "outputs": [
    {
     "data": {
      "text/plain": [
       "375"
      ]
     },
     "execution_count": 72,
     "metadata": {},
     "output_type": "execute_result"
    }
   ],
   "source": [
    "len(yelpDf)"
   ]
  },
  {
   "cell_type": "code",
   "execution_count": 89,
   "metadata": {
    "collapsed": true,
    "deletable": true,
    "editable": true
   },
   "outputs": [],
   "source": [
    "yelpDf.to_file('Data/coffee.geojson')"
   ]
  },
  {
   "cell_type": "markdown",
   "metadata": {
    "deletable": true,
    "editable": true
   },
   "source": [
    "## Yelp Beer"
   ]
  },
  {
   "cell_type": "code",
   "execution_count": 81,
   "metadata": {
    "collapsed": true,
    "deletable": true,
    "editable": true
   },
   "outputs": [],
   "source": [
    "def yelp_beer(offset=0):\n",
    "    return yelp_api.search_query(\n",
    "        location=\"New York, NY\", \n",
    "        term=\"brewery\", \n",
    "        categories=['breweries'],\n",
    "        limit=50,\n",
    "        offset=offset\n",
    "    )"
   ]
  },
  {
   "cell_type": "code",
   "execution_count": 84,
   "metadata": {
    "collapsed": false,
    "deletable": true,
    "editable": true
   },
   "outputs": [
    {
     "name": "stdout",
     "output_type": "stream",
     "text": [
      "Total Breweries: 67\n",
      "0\n",
      "50\n"
     ]
    }
   ],
   "source": [
    "name = []\n",
    "geometry = []\n",
    "address = []\n",
    "ids = []\n",
    "ratings = []\n",
    "\n",
    "offset = 0\n",
    "total_results = yelp_beer()['total']\n",
    "\n",
    "print('Total Breweries:', total_results)\n",
    "\n",
    "while offset < total_results:\n",
    "    print(offset)    \n",
    "    for biz in yelp_beer(offset)['businesses']:        \n",
    "        name.append(biz['name'])\n",
    "        geometry.append(Point(biz['coordinates']['longitude'], biz['coordinates']['latitude']))\n",
    "        address.append(\" \".join(biz['location']['display_address']))\n",
    "        ids.append(biz['id'])\n",
    "        ratings.append(biz['rating'])\n",
    "    \n",
    "    offset += 50"
   ]
  },
  {
   "cell_type": "code",
   "execution_count": 85,
   "metadata": {
    "collapsed": true,
    "deletable": true,
    "editable": true
   },
   "outputs": [],
   "source": [
    "columns = {'brewery_name': name, 'geometry': geometry, 'address': address, 'yelp_id': ids}\n",
    "yelpBeer = gpd.GeoDataFrame(columns)"
   ]
  },
  {
   "cell_type": "code",
   "execution_count": 88,
   "metadata": {
    "collapsed": false,
    "deletable": true,
    "editable": true
   },
   "outputs": [],
   "source": [
    "yelpBeer.to_file('Data/yelp_beer.geojson')"
   ]
  },
  {
   "cell_type": "markdown",
   "metadata": {
    "deletable": true,
    "editable": true
   },
   "source": [
    "## Foursquare"
   ]
  },
  {
   "cell_type": "code",
   "execution_count": 3,
   "metadata": {
    "collapsed": true,
    "deletable": true,
    "editable": true
   },
   "outputs": [],
   "source": [
    "client = foursquare.Foursquare(client_id='1ZZN5DWC55SKPPS5APYUIP41GEQET2U03UPL1J4M2N1XXBWM',\n",
    "                               client_secret='J5SBGX1O2TRIFTR4VDM4CTMTST03QEFXU0S4AODDBWDSPEYM')"
   ]
  },
  {
   "cell_type": "code",
   "execution_count": 50,
   "metadata": {
    "collapsed": false,
    "deletable": true,
    "editable": true
   },
   "outputs": [],
   "source": [
    "roasters = client.venues.search(params={\n",
    "                                        'near': 'New York, NY',\n",
    "                                        'categoryId': '4bf58dd8d48988d1e0931735',\n",
    "                                        'limit': 50})"
   ]
  },
  {
   "cell_type": "code",
   "execution_count": 52,
   "metadata": {
    "collapsed": false,
    "deletable": true,
    "editable": true
   },
   "outputs": [
    {
     "data": {
      "text/plain": [
       "50"
      ]
     },
     "execution_count": 52,
     "metadata": {},
     "output_type": "execute_result"
    }
   ],
   "source": [
    "roasters['venues']"
   ]
  },
  {
   "cell_type": "code",
   "execution_count": 53,
   "metadata": {
    "collapsed": false,
    "deletable": true,
    "editable": true
   },
   "outputs": [],
   "source": [
    "name = []\n",
    "geometry = []\n",
    "address = []\n",
    "ids = []\n",
    "\n",
    "for v in roasters['venues']:\n",
    "    name.append(v['name'])\n",
    "    geometry.append(Point(v['location']['lng'], v['location']['lat']))\n",
    "    address.append(\" \".join(v['location']['formattedAddress']))\n",
    "    ids.append(v['id'])"
   ]
  },
  {
   "cell_type": "code",
   "execution_count": 54,
   "metadata": {
    "collapsed": true,
    "deletable": true,
    "editable": true
   },
   "outputs": [],
   "source": [
    "columns = {'coffeeshop_name': name, 'geometry': geometry, 'address': address, 'foursquare_id': ids}\n",
    "coffee = gpd.GeoDataFrame(columns)"
   ]
  },
  {
   "cell_type": "code",
   "execution_count": 67,
   "metadata": {
    "collapsed": false,
    "deletable": true,
    "editable": true
   },
   "outputs": [],
   "source": [
    "coffee.to_csv('Data/coffee.csv')"
   ]
  },
  {
   "cell_type": "code",
   "execution_count": 56,
   "metadata": {
    "collapsed": true,
    "deletable": true,
    "editable": true
   },
   "outputs": [],
   "source": [
    "# Use list of census tract centroids to find a more comprehensive list of coffeeshops "
   ]
  },
  {
   "cell_type": "code",
   "execution_count": null,
   "metadata": {
    "collapsed": true,
    "deletable": true,
    "editable": true
   },
   "outputs": [],
   "source": []
  }
 ],
 "metadata": {
  "kernelspec": {
   "display_name": "Python 3",
   "language": "python",
   "name": "python3"
  },
  "language_info": {
   "codemirror_mode": {
    "name": "ipython",
    "version": 3
   },
   "file_extension": ".py",
   "mimetype": "text/x-python",
   "name": "python",
   "nbconvert_exporter": "python",
   "pygments_lexer": "ipython3",
   "version": "3.4.2"
  }
 },
 "nbformat": 4,
 "nbformat_minor": 2
}
