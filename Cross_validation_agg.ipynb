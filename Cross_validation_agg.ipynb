{
 "cells": [
  {
   "cell_type": "markdown",
   "metadata": {},
   "source": [
    "## Setting up and reading data"
   ]
  },
  {
   "cell_type": "code",
   "execution_count": 70,
   "metadata": {
    "collapsed": false
   },
   "outputs": [],
   "source": [
    "import pandas as pd\n",
    "import numpy as np\n",
    "import matplotlib.pyplot as plt\n",
    "#import seaborn\n",
    "from sklearn import naive_bayes\n",
    "from sklearn import svm\n",
    "from sklearn.cross_validation import train_test_split\n",
    "from pandas.tools.plotting import scatter_matrix\n",
    "from sklearn.tree import DecisionTreeClassifier\n",
    "from sklearn.ensemble import AdaBoostClassifier\n",
    "from sklearn.ensemble import GradientBoostingClassifier\n",
    "from sklearn.ensemble import RandomForestClassifier\n",
    "from sklearn.ensemble import BaggingClassifier\n",
    "from IPython.display import clear_output\n",
    "import csv\n",
    "import numpy as np\n",
    "import matplotlib.pyplot as plt\n",
    "import pandas as pd\n",
    "import geopandas as gpd\n",
    "%matplotlib inline\n",
    "import csv\n",
    "import matplotlib.pyplot as plt\n",
    "import numpy as np\n",
    "import pandas as pd\n",
    "from sklearn import naive_bayes\n",
    "from sklearn import svm\n",
    "from sklearn.cross_validation import train_test_split\n",
    "from sklearn import cluster\n",
    "#pd.options.display.max_rows = 999\n",
    "#pd.set_option('display.max_rows', 500)\n",
    "#pd.set_option('display.expand_frame_repr', False)\n",
    "from IPython.display import display\n",
    "pd.options.display.max_columns = None\n",
    "import seaborn as sns\n",
    "from sklearn.cluster import SpectralClustering\n",
    "from sklearn.cluster import KMeans\n",
    "from sklearn.cluster import AgglomerativeClustering\n",
    "from sklearn.neighbors import NearestNeighbors\n",
    "import time\n",
    "%matplotlib inline "
   ]
  },
  {
   "cell_type": "code",
   "execution_count": 71,
   "metadata": {
    "collapsed": false
   },
   "outputs": [],
   "source": [
    "df = gpd.GeoDataFrame.from_file('Data/jp-lustered.geojson')"
   ]
  },
  {
   "cell_type": "code",
   "execution_count": 74,
   "metadata": {
    "collapsed": false
   },
   "outputs": [
    {
     "data": {
      "text/html": [
       "<div>\n",
       "<table border=\"1\" class=\"dataframe\">\n",
       "  <thead>\n",
       "    <tr style=\"text-align: right;\">\n",
       "      <th></th>\n",
       "      <th>Entire_home/apt</th>\n",
       "      <th>Median_income</th>\n",
       "      <th>Median_rent</th>\n",
       "      <th>Private_room</th>\n",
       "      <th>Shared_room</th>\n",
       "      <th>accesstosubway</th>\n",
       "      <th>agglomerative</th>\n",
       "      <th>agglomerativeCat</th>\n",
       "      <th>availability_365</th>\n",
       "      <th>beer_count</th>\n",
       "      <th>boro_ct_2010</th>\n",
       "      <th>calculated_host_listings_count</th>\n",
       "      <th>coffee_count</th>\n",
       "      <th>connectivityScore</th>\n",
       "      <th>geometry</th>\n",
       "      <th>host_id</th>\n",
       "      <th>host_name</th>\n",
       "      <th>id</th>\n",
       "      <th>index_left</th>\n",
       "      <th>kmeans</th>\n",
       "      <th>kmeansCat</th>\n",
       "      <th>last_review</th>\n",
       "      <th>latitude</th>\n",
       "      <th>longitude</th>\n",
       "      <th>minimum_nights</th>\n",
       "      <th>name</th>\n",
       "      <th>neighbourhood</th>\n",
       "      <th>neighbourhood_group</th>\n",
       "      <th>number_of_reviews</th>\n",
       "      <th>price</th>\n",
       "      <th>reviews_per_month</th>\n",
       "      <th>room_type</th>\n",
       "      <th>spectral</th>\n",
       "      <th>spectralCat</th>\n",
       "    </tr>\n",
       "  </thead>\n",
       "  <tbody>\n",
       "    <tr>\n",
       "      <th>0</th>\n",
       "      <td>0</td>\n",
       "      <td>21855.0</td>\n",
       "      <td>1287.0</td>\n",
       "      <td>1</td>\n",
       "      <td>0</td>\n",
       "      <td>8.368050</td>\n",
       "      <td>2</td>\n",
       "      <td>2</td>\n",
       "      <td>242</td>\n",
       "      <td>0</td>\n",
       "      <td>2002400</td>\n",
       "      <td>10</td>\n",
       "      <td>0</td>\n",
       "      <td>0.0</td>\n",
       "      <td>POINT (-73.86406089014145 40.81274651012037)</td>\n",
       "      <td>525710</td>\n",
       "      <td>Libby</td>\n",
       "      <td>14880182</td>\n",
       "      <td>1.0</td>\n",
       "      <td>1</td>\n",
       "      <td>1</td>\n",
       "      <td>2017-02-08</td>\n",
       "      <td>40.812747</td>\n",
       "      <td>-73.864061</td>\n",
       "      <td>2</td>\n",
       "      <td>Community Living in the Heart &amp; Soul of NYC (3C)</td>\n",
       "      <td>Clason Point</td>\n",
       "      <td>Bronx</td>\n",
       "      <td>9</td>\n",
       "      <td>59</td>\n",
       "      <td>1.53</td>\n",
       "      <td>Private room</td>\n",
       "      <td>2</td>\n",
       "      <td>2</td>\n",
       "    </tr>\n",
       "    <tr>\n",
       "      <th>1</th>\n",
       "      <td>0</td>\n",
       "      <td>21855.0</td>\n",
       "      <td>1287.0</td>\n",
       "      <td>1</td>\n",
       "      <td>0</td>\n",
       "      <td>8.380864</td>\n",
       "      <td>2</td>\n",
       "      <td>2</td>\n",
       "      <td>365</td>\n",
       "      <td>0</td>\n",
       "      <td>2000200</td>\n",
       "      <td>10</td>\n",
       "      <td>0</td>\n",
       "      <td>0.0</td>\n",
       "      <td>POINT (-73.86381389361847 40.81293405229447)</td>\n",
       "      <td>525710</td>\n",
       "      <td>Libby</td>\n",
       "      <td>15359150</td>\n",
       "      <td>1.0</td>\n",
       "      <td>1</td>\n",
       "      <td>1</td>\n",
       "      <td>2017-02-10</td>\n",
       "      <td>40.812934</td>\n",
       "      <td>-73.863814</td>\n",
       "      <td>2</td>\n",
       "      <td>Private Room for 2, Community House NYC (2A)</td>\n",
       "      <td>Clason Point</td>\n",
       "      <td>Bronx</td>\n",
       "      <td>2</td>\n",
       "      <td>43</td>\n",
       "      <td>0.42</td>\n",
       "      <td>Private room</td>\n",
       "      <td>2</td>\n",
       "      <td>2</td>\n",
       "    </tr>\n",
       "    <tr>\n",
       "      <th>2</th>\n",
       "      <td>0</td>\n",
       "      <td>21855.0</td>\n",
       "      <td>1287.0</td>\n",
       "      <td>1</td>\n",
       "      <td>0</td>\n",
       "      <td>8.406552</td>\n",
       "      <td>2</td>\n",
       "      <td>2</td>\n",
       "      <td>336</td>\n",
       "      <td>0</td>\n",
       "      <td>2000200</td>\n",
       "      <td>10</td>\n",
       "      <td>0</td>\n",
       "      <td>0.0</td>\n",
       "      <td>POINT (-73.86370502873359 40.81359965937455)</td>\n",
       "      <td>525710</td>\n",
       "      <td>Libby</td>\n",
       "      <td>15359306</td>\n",
       "      <td>1.0</td>\n",
       "      <td>1</td>\n",
       "      <td>1</td>\n",
       "      <td>2017-01-09</td>\n",
       "      <td>40.813600</td>\n",
       "      <td>-73.863705</td>\n",
       "      <td>1</td>\n",
       "      <td>King sized bed + futon in Large Private Room  ...</td>\n",
       "      <td>Clason Point</td>\n",
       "      <td>Bronx</td>\n",
       "      <td>6</td>\n",
       "      <td>76</td>\n",
       "      <td>1.37</td>\n",
       "      <td>Private room</td>\n",
       "      <td>2</td>\n",
       "      <td>2</td>\n",
       "    </tr>\n",
       "  </tbody>\n",
       "</table>\n",
       "</div>"
      ],
      "text/plain": [
       "   Entire_home/apt  Median_income  Median_rent  Private_room  Shared_room  \\\n",
       "0                0        21855.0       1287.0             1            0   \n",
       "1                0        21855.0       1287.0             1            0   \n",
       "2                0        21855.0       1287.0             1            0   \n",
       "\n",
       "   accesstosubway  agglomerative agglomerativeCat  availability_365  \\\n",
       "0        8.368050              2                2               242   \n",
       "1        8.380864              2                2               365   \n",
       "2        8.406552              2                2               336   \n",
       "\n",
       "   beer_count boro_ct_2010  calculated_host_listings_count  coffee_count  \\\n",
       "0           0      2002400                              10             0   \n",
       "1           0      2000200                              10             0   \n",
       "2           0      2000200                              10             0   \n",
       "\n",
       "   connectivityScore                                      geometry  host_id  \\\n",
       "0                0.0  POINT (-73.86406089014145 40.81274651012037)   525710   \n",
       "1                0.0  POINT (-73.86381389361847 40.81293405229447)   525710   \n",
       "2                0.0  POINT (-73.86370502873359 40.81359965937455)   525710   \n",
       "\n",
       "  host_name        id  index_left  kmeans kmeansCat last_review   latitude  \\\n",
       "0     Libby  14880182         1.0       1         1  2017-02-08  40.812747   \n",
       "1     Libby  15359150         1.0       1         1  2017-02-10  40.812934   \n",
       "2     Libby  15359306         1.0       1         1  2017-01-09  40.813600   \n",
       "\n",
       "   longitude  minimum_nights  \\\n",
       "0 -73.864061               2   \n",
       "1 -73.863814               2   \n",
       "2 -73.863705               1   \n",
       "\n",
       "                                                name neighbourhood  \\\n",
       "0   Community Living in the Heart & Soul of NYC (3C)  Clason Point   \n",
       "1       Private Room for 2, Community House NYC (2A)  Clason Point   \n",
       "2  King sized bed + futon in Large Private Room  ...  Clason Point   \n",
       "\n",
       "  neighbourhood_group  number_of_reviews  price  reviews_per_month  \\\n",
       "0               Bronx                  9     59               1.53   \n",
       "1               Bronx                  2     43               0.42   \n",
       "2               Bronx                  6     76               1.37   \n",
       "\n",
       "      room_type  spectral spectralCat  \n",
       "0  Private room         2           2  \n",
       "1  Private room         2           2  \n",
       "2  Private room         2           2  "
      ]
     },
     "execution_count": 74,
     "metadata": {},
     "output_type": "execute_result"
    }
   ],
   "source": [
    "df.head(3)"
   ]
  },
  {
   "cell_type": "code",
   "execution_count": 75,
   "metadata": {
    "collapsed": false
   },
   "outputs": [
    {
     "data": {
      "text/plain": [
       "Entire_home/apt                     int64\n",
       "Median_income                     float64\n",
       "Median_rent                       float64\n",
       "Private_room                        int64\n",
       "Shared_room                         int64\n",
       "accesstosubway                    float64\n",
       "agglomerative                       int64\n",
       "agglomerativeCat                   object\n",
       "availability_365                    int64\n",
       "beer_count                          int64\n",
       "boro_ct_2010                       object\n",
       "calculated_host_listings_count      int64\n",
       "coffee_count                        int64\n",
       "connectivityScore                 float64\n",
       "geometry                           object\n",
       "host_id                             int64\n",
       "host_name                          object\n",
       "id                                 object\n",
       "index_left                        float64\n",
       "kmeans                              int64\n",
       "kmeansCat                          object\n",
       "last_review                        object\n",
       "latitude                          float64\n",
       "longitude                         float64\n",
       "minimum_nights                      int64\n",
       "name                               object\n",
       "neighbourhood                      object\n",
       "neighbourhood_group                object\n",
       "number_of_reviews                   int64\n",
       "price                               int64\n",
       "reviews_per_month                 float64\n",
       "room_type                          object\n",
       "spectral                            int64\n",
       "spectralCat                        object\n",
       "dtype: object"
      ]
     },
     "execution_count": 75,
     "metadata": {},
     "output_type": "execute_result"
    }
   ],
   "source": [
    "df.dtypes"
   ]
  },
  {
   "cell_type": "markdown",
   "metadata": {},
   "source": [
    "## Inspecting data and cleaning"
   ]
  },
  {
   "cell_type": "code",
   "execution_count": 76,
   "metadata": {
    "collapsed": false
   },
   "outputs": [
    {
     "data": {
      "text/html": [
       "<div>\n",
       "<table border=\"1\" class=\"dataframe\">\n",
       "  <thead>\n",
       "    <tr style=\"text-align: right;\">\n",
       "      <th></th>\n",
       "      <th>Entire_home/apt</th>\n",
       "      <th>Median_income</th>\n",
       "      <th>Median_rent</th>\n",
       "      <th>Private_room</th>\n",
       "      <th>Shared_room</th>\n",
       "      <th>accesstosubway</th>\n",
       "      <th>agglomerative</th>\n",
       "      <th>availability_365</th>\n",
       "      <th>beer_count</th>\n",
       "      <th>boro_ct_2010</th>\n",
       "      <th>calculated_host_listings_count</th>\n",
       "      <th>coffee_count</th>\n",
       "      <th>connectivityScore</th>\n",
       "      <th>geometry</th>\n",
       "      <th>host_id</th>\n",
       "      <th>host_name</th>\n",
       "      <th>id</th>\n",
       "      <th>index_left</th>\n",
       "      <th>kmeans</th>\n",
       "      <th>kmeansCat</th>\n",
       "      <th>last_review</th>\n",
       "      <th>latitude</th>\n",
       "      <th>longitude</th>\n",
       "      <th>minimum_nights</th>\n",
       "      <th>name</th>\n",
       "      <th>neighbourhood</th>\n",
       "      <th>neighbourhood_group</th>\n",
       "      <th>number_of_reviews</th>\n",
       "      <th>price</th>\n",
       "      <th>reviews_per_month</th>\n",
       "      <th>room_type</th>\n",
       "      <th>spectral</th>\n",
       "      <th>spectralCat</th>\n",
       "    </tr>\n",
       "    <tr>\n",
       "      <th>agglomerativeCat</th>\n",
       "      <th></th>\n",
       "      <th></th>\n",
       "      <th></th>\n",
       "      <th></th>\n",
       "      <th></th>\n",
       "      <th></th>\n",
       "      <th></th>\n",
       "      <th></th>\n",
       "      <th></th>\n",
       "      <th></th>\n",
       "      <th></th>\n",
       "      <th></th>\n",
       "      <th></th>\n",
       "      <th></th>\n",
       "      <th></th>\n",
       "      <th></th>\n",
       "      <th></th>\n",
       "      <th></th>\n",
       "      <th></th>\n",
       "      <th></th>\n",
       "      <th></th>\n",
       "      <th></th>\n",
       "      <th></th>\n",
       "      <th></th>\n",
       "      <th></th>\n",
       "      <th></th>\n",
       "      <th></th>\n",
       "      <th></th>\n",
       "      <th></th>\n",
       "      <th></th>\n",
       "      <th></th>\n",
       "      <th></th>\n",
       "      <th></th>\n",
       "    </tr>\n",
       "  </thead>\n",
       "  <tbody>\n",
       "    <tr>\n",
       "      <th>0</th>\n",
       "      <td>7782</td>\n",
       "      <td>7782</td>\n",
       "      <td>7734</td>\n",
       "      <td>7782</td>\n",
       "      <td>7782</td>\n",
       "      <td>7782</td>\n",
       "      <td>7782</td>\n",
       "      <td>7782</td>\n",
       "      <td>7782</td>\n",
       "      <td>7781</td>\n",
       "      <td>7782</td>\n",
       "      <td>7782</td>\n",
       "      <td>7782</td>\n",
       "      <td>7782</td>\n",
       "      <td>7782</td>\n",
       "      <td>7780</td>\n",
       "      <td>7782</td>\n",
       "      <td>7782</td>\n",
       "      <td>7782</td>\n",
       "      <td>7782</td>\n",
       "      <td>6034</td>\n",
       "      <td>7782</td>\n",
       "      <td>7782</td>\n",
       "      <td>7782</td>\n",
       "      <td>7782</td>\n",
       "      <td>7782</td>\n",
       "      <td>7782</td>\n",
       "      <td>7782</td>\n",
       "      <td>7782</td>\n",
       "      <td>6034</td>\n",
       "      <td>7782</td>\n",
       "      <td>7782</td>\n",
       "      <td>7782</td>\n",
       "    </tr>\n",
       "    <tr>\n",
       "      <th>1</th>\n",
       "      <td>6145</td>\n",
       "      <td>6145</td>\n",
       "      <td>6144</td>\n",
       "      <td>6145</td>\n",
       "      <td>6145</td>\n",
       "      <td>6145</td>\n",
       "      <td>6145</td>\n",
       "      <td>6145</td>\n",
       "      <td>6145</td>\n",
       "      <td>6144</td>\n",
       "      <td>6145</td>\n",
       "      <td>6145</td>\n",
       "      <td>6145</td>\n",
       "      <td>6145</td>\n",
       "      <td>6145</td>\n",
       "      <td>6138</td>\n",
       "      <td>6145</td>\n",
       "      <td>6145</td>\n",
       "      <td>6145</td>\n",
       "      <td>6145</td>\n",
       "      <td>4788</td>\n",
       "      <td>6145</td>\n",
       "      <td>6145</td>\n",
       "      <td>6145</td>\n",
       "      <td>6145</td>\n",
       "      <td>6145</td>\n",
       "      <td>6145</td>\n",
       "      <td>6145</td>\n",
       "      <td>6145</td>\n",
       "      <td>4788</td>\n",
       "      <td>6145</td>\n",
       "      <td>6145</td>\n",
       "      <td>6145</td>\n",
       "    </tr>\n",
       "    <tr>\n",
       "      <th>2</th>\n",
       "      <td>18472</td>\n",
       "      <td>18472</td>\n",
       "      <td>18471</td>\n",
       "      <td>18472</td>\n",
       "      <td>18472</td>\n",
       "      <td>18472</td>\n",
       "      <td>18472</td>\n",
       "      <td>18472</td>\n",
       "      <td>18472</td>\n",
       "      <td>18470</td>\n",
       "      <td>18472</td>\n",
       "      <td>18472</td>\n",
       "      <td>18472</td>\n",
       "      <td>18472</td>\n",
       "      <td>18472</td>\n",
       "      <td>18464</td>\n",
       "      <td>18472</td>\n",
       "      <td>18472</td>\n",
       "      <td>18472</td>\n",
       "      <td>18472</td>\n",
       "      <td>14346</td>\n",
       "      <td>18472</td>\n",
       "      <td>18472</td>\n",
       "      <td>18472</td>\n",
       "      <td>18471</td>\n",
       "      <td>18472</td>\n",
       "      <td>18472</td>\n",
       "      <td>18472</td>\n",
       "      <td>18472</td>\n",
       "      <td>14346</td>\n",
       "      <td>18472</td>\n",
       "      <td>18472</td>\n",
       "      <td>18472</td>\n",
       "    </tr>\n",
       "    <tr>\n",
       "      <th>3</th>\n",
       "      <td>3925</td>\n",
       "      <td>3925</td>\n",
       "      <td>3852</td>\n",
       "      <td>3925</td>\n",
       "      <td>3925</td>\n",
       "      <td>3925</td>\n",
       "      <td>3925</td>\n",
       "      <td>3925</td>\n",
       "      <td>3925</td>\n",
       "      <td>3925</td>\n",
       "      <td>3925</td>\n",
       "      <td>3925</td>\n",
       "      <td>3925</td>\n",
       "      <td>3925</td>\n",
       "      <td>3925</td>\n",
       "      <td>3924</td>\n",
       "      <td>3925</td>\n",
       "      <td>3925</td>\n",
       "      <td>3925</td>\n",
       "      <td>3925</td>\n",
       "      <td>3106</td>\n",
       "      <td>3925</td>\n",
       "      <td>3925</td>\n",
       "      <td>3925</td>\n",
       "      <td>3925</td>\n",
       "      <td>3925</td>\n",
       "      <td>3925</td>\n",
       "      <td>3925</td>\n",
       "      <td>3925</td>\n",
       "      <td>3106</td>\n",
       "      <td>3925</td>\n",
       "      <td>3925</td>\n",
       "      <td>3925</td>\n",
       "    </tr>\n",
       "  </tbody>\n",
       "</table>\n",
       "</div>"
      ],
      "text/plain": [
       "                  Entire_home/apt  Median_income  Median_rent  Private_room  \\\n",
       "agglomerativeCat                                                              \n",
       "0                            7782           7782         7734          7782   \n",
       "1                            6145           6145         6144          6145   \n",
       "2                           18472          18472        18471         18472   \n",
       "3                            3925           3925         3852          3925   \n",
       "\n",
       "                  Shared_room  accesstosubway  agglomerative  \\\n",
       "agglomerativeCat                                               \n",
       "0                        7782            7782           7782   \n",
       "1                        6145            6145           6145   \n",
       "2                       18472           18472          18472   \n",
       "3                        3925            3925           3925   \n",
       "\n",
       "                  availability_365  beer_count  boro_ct_2010  \\\n",
       "agglomerativeCat                                               \n",
       "0                             7782        7782          7781   \n",
       "1                             6145        6145          6144   \n",
       "2                            18472       18472         18470   \n",
       "3                             3925        3925          3925   \n",
       "\n",
       "                  calculated_host_listings_count  coffee_count  \\\n",
       "agglomerativeCat                                                 \n",
       "0                                           7782          7782   \n",
       "1                                           6145          6145   \n",
       "2                                          18472         18472   \n",
       "3                                           3925          3925   \n",
       "\n",
       "                  connectivityScore  geometry  host_id  host_name     id  \\\n",
       "agglomerativeCat                                                           \n",
       "0                              7782      7782     7782       7780   7782   \n",
       "1                              6145      6145     6145       6138   6145   \n",
       "2                             18472     18472    18472      18464  18472   \n",
       "3                              3925      3925     3925       3924   3925   \n",
       "\n",
       "                  index_left  kmeans  kmeansCat  last_review  latitude  \\\n",
       "agglomerativeCat                                                         \n",
       "0                       7782    7782       7782         6034      7782   \n",
       "1                       6145    6145       6145         4788      6145   \n",
       "2                      18472   18472      18472        14346     18472   \n",
       "3                       3925    3925       3925         3106      3925   \n",
       "\n",
       "                  longitude  minimum_nights   name  neighbourhood  \\\n",
       "agglomerativeCat                                                    \n",
       "0                      7782            7782   7782           7782   \n",
       "1                      6145            6145   6145           6145   \n",
       "2                     18472           18472  18471          18472   \n",
       "3                      3925            3925   3925           3925   \n",
       "\n",
       "                  neighbourhood_group  number_of_reviews  price  \\\n",
       "agglomerativeCat                                                  \n",
       "0                                7782               7782   7782   \n",
       "1                                6145               6145   6145   \n",
       "2                               18472              18472  18472   \n",
       "3                                3925               3925   3925   \n",
       "\n",
       "                  reviews_per_month  room_type  spectral  spectralCat  \n",
       "agglomerativeCat                                                       \n",
       "0                              6034       7782      7782         7782  \n",
       "1                              4788       6145      6145         6145  \n",
       "2                             14346      18472     18472        18472  \n",
       "3                              3106       3925      3925         3925  "
      ]
     },
     "execution_count": 76,
     "metadata": {},
     "output_type": "execute_result"
    }
   ],
   "source": [
    "df.groupby(['agglomerativeCat']).count()"
   ]
  },
  {
   "cell_type": "code",
   "execution_count": 77,
   "metadata": {
    "collapsed": false
   },
   "outputs": [
    {
     "data": {
      "text/plain": [
       "Index([               u'Entire_home/apt',                  u'Median_income',\n",
       "                          u'Median_rent',                   u'Private_room',\n",
       "                          u'Shared_room',                 u'accesstosubway',\n",
       "                        u'agglomerative',               u'agglomerativeCat',\n",
       "                     u'availability_365',                     u'beer_count',\n",
       "                         u'boro_ct_2010', u'calculated_host_listings_count',\n",
       "                         u'coffee_count',              u'connectivityScore',\n",
       "                             u'geometry',                        u'host_id',\n",
       "                            u'host_name',                             u'id',\n",
       "                           u'index_left',                         u'kmeans',\n",
       "                            u'kmeansCat',                    u'last_review',\n",
       "                             u'latitude',                      u'longitude',\n",
       "                       u'minimum_nights',                           u'name',\n",
       "                        u'neighbourhood',            u'neighbourhood_group',\n",
       "                    u'number_of_reviews',                          u'price',\n",
       "                    u'reviews_per_month',                      u'room_type',\n",
       "                             u'spectral',                    u'spectralCat'],\n",
       "      dtype='object')"
      ]
     },
     "execution_count": 77,
     "metadata": {},
     "output_type": "execute_result"
    }
   ],
   "source": [
    "df.columns"
   ]
  },
  {
   "cell_type": "code",
   "execution_count": 78,
   "metadata": {
    "collapsed": false
   },
   "outputs": [],
   "source": [
    "df_1 = df[[ u'agglomerativeCat', u'Median_income',u'beer_count', u'coffee_count', u'connectivityScore', u'price']]\n",
    "            #u'reviews_per_month']]"
   ]
  },
  {
   "cell_type": "code",
   "execution_count": 79,
   "metadata": {
    "collapsed": false
   },
   "outputs": [
    {
     "data": {
      "text/html": [
       "<div>\n",
       "<table border=\"1\" class=\"dataframe\">\n",
       "  <thead>\n",
       "    <tr style=\"text-align: right;\">\n",
       "      <th></th>\n",
       "      <th>Median_income</th>\n",
       "      <th>beer_count</th>\n",
       "      <th>coffee_count</th>\n",
       "      <th>connectivityScore</th>\n",
       "      <th>price</th>\n",
       "    </tr>\n",
       "  </thead>\n",
       "  <tbody>\n",
       "    <tr>\n",
       "      <th>count</th>\n",
       "      <td>36324.000000</td>\n",
       "      <td>36324.000000</td>\n",
       "      <td>36324.000000</td>\n",
       "      <td>36324.000000</td>\n",
       "      <td>36324.000000</td>\n",
       "    </tr>\n",
       "    <tr>\n",
       "      <th>mean</th>\n",
       "      <td>50235.823808</td>\n",
       "      <td>0.405600</td>\n",
       "      <td>6.242429</td>\n",
       "      <td>79.558997</td>\n",
       "      <td>128.687562</td>\n",
       "    </tr>\n",
       "    <tr>\n",
       "      <th>std</th>\n",
       "      <td>36489.584342</td>\n",
       "      <td>0.773165</td>\n",
       "      <td>7.359190</td>\n",
       "      <td>65.852461</td>\n",
       "      <td>84.574034</td>\n",
       "    </tr>\n",
       "    <tr>\n",
       "      <th>min</th>\n",
       "      <td>4291.000000</td>\n",
       "      <td>0.000000</td>\n",
       "      <td>0.000000</td>\n",
       "      <td>0.000000</td>\n",
       "      <td>10.000000</td>\n",
       "    </tr>\n",
       "    <tr>\n",
       "      <th>25%</th>\n",
       "      <td>23142.000000</td>\n",
       "      <td>0.000000</td>\n",
       "      <td>1.000000</td>\n",
       "      <td>37.000000</td>\n",
       "      <td>70.000000</td>\n",
       "    </tr>\n",
       "    <tr>\n",
       "      <th>50%</th>\n",
       "      <td>39357.000000</td>\n",
       "      <td>0.000000</td>\n",
       "      <td>3.000000</td>\n",
       "      <td>61.000000</td>\n",
       "      <td>100.000000</td>\n",
       "    </tr>\n",
       "    <tr>\n",
       "      <th>75%</th>\n",
       "      <td>66060.000000</td>\n",
       "      <td>1.000000</td>\n",
       "      <td>10.000000</td>\n",
       "      <td>100.000000</td>\n",
       "      <td>165.000000</td>\n",
       "    </tr>\n",
       "    <tr>\n",
       "      <th>max</th>\n",
       "      <td>340545.000000</td>\n",
       "      <td>5.000000</td>\n",
       "      <td>35.000000</td>\n",
       "      <td>396.000000</td>\n",
       "      <td>500.000000</td>\n",
       "    </tr>\n",
       "  </tbody>\n",
       "</table>\n",
       "</div>"
      ],
      "text/plain": [
       "       Median_income    beer_count  coffee_count  connectivityScore  \\\n",
       "count   36324.000000  36324.000000  36324.000000       36324.000000   \n",
       "mean    50235.823808      0.405600      6.242429          79.558997   \n",
       "std     36489.584342      0.773165      7.359190          65.852461   \n",
       "min      4291.000000      0.000000      0.000000           0.000000   \n",
       "25%     23142.000000      0.000000      1.000000          37.000000   \n",
       "50%     39357.000000      0.000000      3.000000          61.000000   \n",
       "75%     66060.000000      1.000000     10.000000         100.000000   \n",
       "max    340545.000000      5.000000     35.000000         396.000000   \n",
       "\n",
       "              price  \n",
       "count  36324.000000  \n",
       "mean     128.687562  \n",
       "std       84.574034  \n",
       "min       10.000000  \n",
       "25%       70.000000  \n",
       "50%      100.000000  \n",
       "75%      165.000000  \n",
       "max      500.000000  "
      ]
     },
     "execution_count": 79,
     "metadata": {},
     "output_type": "execute_result"
    }
   ],
   "source": [
    "df_1.set_index(df['id'], inplace=True)\n",
    "df_1 = df_1\n",
    "df_1.describe()"
   ]
  },
  {
   "cell_type": "code",
   "execution_count": 80,
   "metadata": {
    "collapsed": false
   },
   "outputs": [
    {
     "name": "stderr",
     "output_type": "stream",
     "text": [
      "/opt/rh/anaconda/root/envs/PUI2016_Python2/lib/python2.7/site-packages/ipykernel/__main__.py:1: SettingWithCopyWarning: \n",
      "A value is trying to be set on a copy of a slice from a DataFrame\n",
      "\n",
      "See the caveats in the documentation: http://pandas.pydata.org/pandas-docs/stable/indexing.html#indexing-view-versus-copy\n",
      "  if __name__ == '__main__':\n"
     ]
    }
   ],
   "source": [
    "df_1.dropna(inplace=True)"
   ]
  },
  {
   "cell_type": "code",
   "execution_count": 81,
   "metadata": {
    "collapsed": false
   },
   "outputs": [
    {
     "data": {
      "text/html": [
       "<div>\n",
       "<table border=\"1\" class=\"dataframe\">\n",
       "  <thead>\n",
       "    <tr style=\"text-align: right;\">\n",
       "      <th></th>\n",
       "      <th>Median_income</th>\n",
       "      <th>beer_count</th>\n",
       "      <th>coffee_count</th>\n",
       "      <th>connectivityScore</th>\n",
       "      <th>price</th>\n",
       "    </tr>\n",
       "    <tr>\n",
       "      <th>agglomerativeCat</th>\n",
       "      <th></th>\n",
       "      <th></th>\n",
       "      <th></th>\n",
       "      <th></th>\n",
       "      <th></th>\n",
       "    </tr>\n",
       "  </thead>\n",
       "  <tbody>\n",
       "    <tr>\n",
       "      <th>0</th>\n",
       "      <td>7782</td>\n",
       "      <td>7782</td>\n",
       "      <td>7782</td>\n",
       "      <td>7782</td>\n",
       "      <td>7782</td>\n",
       "    </tr>\n",
       "    <tr>\n",
       "      <th>1</th>\n",
       "      <td>6145</td>\n",
       "      <td>6145</td>\n",
       "      <td>6145</td>\n",
       "      <td>6145</td>\n",
       "      <td>6145</td>\n",
       "    </tr>\n",
       "    <tr>\n",
       "      <th>2</th>\n",
       "      <td>18472</td>\n",
       "      <td>18472</td>\n",
       "      <td>18472</td>\n",
       "      <td>18472</td>\n",
       "      <td>18472</td>\n",
       "    </tr>\n",
       "    <tr>\n",
       "      <th>3</th>\n",
       "      <td>3925</td>\n",
       "      <td>3925</td>\n",
       "      <td>3925</td>\n",
       "      <td>3925</td>\n",
       "      <td>3925</td>\n",
       "    </tr>\n",
       "  </tbody>\n",
       "</table>\n",
       "</div>"
      ],
      "text/plain": [
       "                  Median_income  beer_count  coffee_count  connectivityScore  \\\n",
       "agglomerativeCat                                                               \n",
       "0                          7782        7782          7782               7782   \n",
       "1                          6145        6145          6145               6145   \n",
       "2                         18472       18472         18472              18472   \n",
       "3                          3925        3925          3925               3925   \n",
       "\n",
       "                  price  \n",
       "agglomerativeCat         \n",
       "0                  7782  \n",
       "1                  6145  \n",
       "2                 18472  \n",
       "3                  3925  "
      ]
     },
     "execution_count": 81,
     "metadata": {},
     "output_type": "execute_result"
    }
   ],
   "source": [
    "df_1.groupby(['agglomerativeCat']).count()"
   ]
  },
  {
   "cell_type": "markdown",
   "metadata": {},
   "source": [
    "## Splitting data"
   ]
  },
  {
   "cell_type": "code",
   "execution_count": 82,
   "metadata": {
    "collapsed": true
   },
   "outputs": [],
   "source": [
    "df_x = df_1.ix[:,1:]\n",
    "df_y = df_1.ix[:,0]"
   ]
  },
  {
   "cell_type": "code",
   "execution_count": 83,
   "metadata": {
    "collapsed": false
   },
   "outputs": [
    {
     "data": {
      "text/plain": [
       "id\n",
       "14880182    2\n",
       "15359150    2\n",
       "15359306    2\n",
       "15244537    2\n",
       "15346892    2\n",
       "Name: agglomerativeCat, dtype: object"
      ]
     },
     "execution_count": 83,
     "metadata": {},
     "output_type": "execute_result"
    }
   ],
   "source": [
    "df_y.head()"
   ]
  },
  {
   "cell_type": "code",
   "execution_count": 84,
   "metadata": {
    "collapsed": true
   },
   "outputs": [],
   "source": [
    "X = df_x.as_matrix()\n",
    "Y = df_y.as_matrix()"
   ]
  },
  {
   "cell_type": "markdown",
   "metadata": {},
   "source": [
    "## Normalize"
   ]
  },
  {
   "cell_type": "code",
   "execution_count": 85,
   "metadata": {
    "collapsed": false
   },
   "outputs": [],
   "source": [
    "#Xtmax = np.amax(X,axis=0)\n",
    "#X = np.divide(X,Xtmax)"
   ]
  },
  {
   "cell_type": "markdown",
   "metadata": {},
   "source": [
    "## Splitting to train and test (70:30)"
   ]
  },
  {
   "cell_type": "code",
   "execution_count": 86,
   "metadata": {
    "collapsed": false
   },
   "outputs": [],
   "source": [
    "X_train, X_test, Y_train, Y_test = train_test_split(X, Y, train_size=0.7, random_state=3)\n",
    "ts = Y_test.shape[0]"
   ]
  },
  {
   "cell_type": "markdown",
   "metadata": {},
   "source": [
    "## Cross Validation"
   ]
  },
  {
   "cell_type": "code",
   "execution_count": null,
   "metadata": {
    "collapsed": true
   },
   "outputs": [],
   "source": []
  },
  {
   "cell_type": "code",
   "execution_count": 87,
   "metadata": {
    "collapsed": false
   },
   "outputs": [
    {
     "name": "stdout",
     "output_type": "stream",
     "text": [
      "99\n"
     ]
    }
   ],
   "source": [
    "# --------------------\n",
    "# Decision Tree Classifier\n",
    "# --------------------\n",
    "DTC_results = []\n",
    "for j in range(100):\n",
    "    clear_output()\n",
    "    print j\n",
    "    X_train, X_test, Y_train, Y_test = train_test_split(X, Y, train_size=0.7)\n",
    "    ts = Y_test.shape[0]\n",
    "    # Train\n",
    "    dtc = DecisionTreeClassifier(max_depth=10)\n",
    "    dtc.fit(X_train, Y_train)\n",
    "\n",
    "    # Predicting\n",
    "    dtc_pred = dtc.predict(X_test)\n",
    "\n",
    "    # Finding mispredicted samples\n",
    "    dtc_verror = np.asarray([int(dtc_pred[i] != Y_test[i]) for i in range(0,ts)])\n",
    "    dtc_error = np.sum(dtc_verror)\n",
    "    dtc_ccidx = np.where(dtc_verror == 0)\n",
    "    dtc_mcidx = np.where(dtc_verror == 1)\n",
    "\n",
    "    DTC_results.append(dtc_error/float(ts))\n"
   ]
  },
  {
   "cell_type": "code",
   "execution_count": 88,
   "metadata": {
    "collapsed": false
   },
   "outputs": [
    {
     "name": "stdout",
     "output_type": "stream",
     "text": [
      "('miss-classified %age is ', 0.020136722334373282)\n"
     ]
    }
   ],
   "source": [
    "print ('miss-classified %age is ', (sum(DTC_results)/len(DTC_results)))"
   ]
  },
  {
   "cell_type": "code",
   "execution_count": null,
   "metadata": {
    "collapsed": true
   },
   "outputs": [],
   "source": []
  },
  {
   "cell_type": "code",
   "execution_count": 89,
   "metadata": {
    "collapsed": false
   },
   "outputs": [
    {
     "name": "stdout",
     "output_type": "stream",
     "text": [
      "99\n"
     ]
    }
   ],
   "source": [
    "# --------------------\n",
    "# Bagging Classifier\n",
    "# --------------------\n",
    "bagb_results = []\n",
    "for j in range(100):\n",
    "    clear_output()\n",
    "    print j\n",
    "    X_train, X_test, Y_train, Y_test = train_test_split(X, Y, train_size=0.7)\n",
    "    ts = Y_test.shape[0]\n",
    "    bagb = BaggingClassifier(DecisionTreeClassifier(max_depth=10), n_estimators=20)\n",
    "#adab = AdaBoostClassifier(DecisionTreeClassifier(max_depth=2), n_estimators=20,learning_rate=1.5,algorithm=\"SAMME\")\n",
    "    bagb.fit(X_train,Y_train)\n",
    "\n",
    "# Predicting\n",
    "    bagb_pred = bagb.predict(X_test)\n",
    "\n",
    "# Finding mispredicted samples\n",
    "    bagb_verror = np.asarray([int(bagb_pred[i] != Y_test[i]) for i in range(0,ts)])\n",
    "    bagb_error = np.sum(bagb_verror)\n",
    "    bagb_ccidx = np.where(bagb_verror == 0)\n",
    "    bagb_mcidx = np.where(bagb_verror == 1)\n",
    "\n",
    "    bagb_results.append(bagb_error/float(ts))"
   ]
  },
  {
   "cell_type": "code",
   "execution_count": 90,
   "metadata": {
    "collapsed": false
   },
   "outputs": [
    {
     "name": "stdout",
     "output_type": "stream",
     "text": [
      "('miss-classified %age is ', 0.015800146815929526)\n"
     ]
    }
   ],
   "source": [
    "print ('miss-classified %age is ', (sum(bagb_results)/len(bagb_results)))"
   ]
  },
  {
   "cell_type": "code",
   "execution_count": 91,
   "metadata": {
    "collapsed": false
   },
   "outputs": [
    {
     "name": "stdout",
     "output_type": "stream",
     "text": [
      "99\n"
     ]
    }
   ],
   "source": [
    "# --------------------\n",
    "# AdaBoost Classifier\n",
    "# --------------------\n",
    "\n",
    "adab_results = []\n",
    "for j in range(100):\n",
    "    clear_output()\n",
    "    print j\n",
    "    X_train, X_test, Y_train, Y_test = train_test_split(X, Y, train_size=0.7)\n",
    "    ts = Y_test.shape[0]\n",
    "    adab = AdaBoostClassifier(DecisionTreeClassifier(max_depth=10), n_estimators=20)\n",
    "    #adab = AdaBoostClassifier(DecisionTreeClassifier(max_depth=10), n_estimators=20,learning_rate=1.2,algorithm=\"SAMME\")\n",
    "    adab.fit(X_train,Y_train)\n",
    "\n",
    "    # Predicting\n",
    "    adab_pred = adab.predict(X_test)\n",
    "\n",
    "    # Finding mispredicted samples\n",
    "    adab_verror = np.asarray([int(adab_pred[i] != Y_test[i]) for i in range(0,ts)])\n",
    "    adab_error = np.sum(adab_verror)\n",
    "    adab_ccidx = np.where(adab_verror == 0)\n",
    "    adab_mcidx = np.where(adab_verror == 1)\n",
    "\n",
    "    adab_results.append(adab_error/float(ts))"
   ]
  },
  {
   "cell_type": "code",
   "execution_count": 92,
   "metadata": {
    "collapsed": false
   },
   "outputs": [
    {
     "name": "stdout",
     "output_type": "stream",
     "text": [
      "('miss-classified %age is ', 0.010763442833547439)\n"
     ]
    }
   ],
   "source": [
    "print ('miss-classified %age is ', (sum(adab_results)/len(adab_results)))"
   ]
  },
  {
   "cell_type": "code",
   "execution_count": null,
   "metadata": {
    "collapsed": true
   },
   "outputs": [],
   "source": []
  },
  {
   "cell_type": "code",
   "execution_count": 93,
   "metadata": {
    "collapsed": false
   },
   "outputs": [
    {
     "name": "stdout",
     "output_type": "stream",
     "text": [
      "99\n"
     ]
    }
   ],
   "source": [
    "# --------------------\n",
    "# Gradient Boosting Classifier\n",
    "# --------------------\n",
    "gradb_results = []\n",
    "for j in range(100):\n",
    "    clear_output()\n",
    "    print j\n",
    "    X_train, X_test, Y_train, Y_test = train_test_split(X, Y, train_size=0.7)\n",
    "    ts = Y_test.shape[0]\n",
    "    gradb = GradientBoostingClassifier(max_depth=10, n_estimators=20)\n",
    "    gradb.fit(X_train,Y_train)\n",
    "\n",
    "    # Predicting\n",
    "    gradb_pred = gradb.predict(X_test)\n",
    "\n",
    "    # Finding mispredicted samples\n",
    "    gradb_verror = np.asarray([int(gradb_pred[i] != Y_test[i]) for i in range(0,ts)])\n",
    "    gradb_error = np.sum(gradb_verror)\n",
    "    gradb_ccidx = np.where(gradb_verror == 0)\n",
    "    gradb_mcidx = np.where(gradb_verror == 1)\n",
    "\n",
    "\n",
    "    gradb_results.append(gradb_error/float(ts))\n"
   ]
  },
  {
   "cell_type": "code",
   "execution_count": 94,
   "metadata": {
    "collapsed": false
   },
   "outputs": [
    {
     "name": "stdout",
     "output_type": "stream",
     "text": [
      "('miss-classified %age is ', 0.014416406680124789)\n"
     ]
    }
   ],
   "source": [
    "print ('miss-classified %age is ', (sum(gradb_results)/len(gradb_results)))"
   ]
  },
  {
   "cell_type": "code",
   "execution_count": 95,
   "metadata": {
    "collapsed": false
   },
   "outputs": [
    {
     "name": "stdout",
     "output_type": "stream",
     "text": [
      "99\n"
     ]
    }
   ],
   "source": [
    "# --------------------\n",
    "# Random Forest Classifier\n",
    "# --------------------\n",
    "rdf_results = []\n",
    "for j in range(100):\n",
    "    clear_output()\n",
    "    print j\n",
    "    X_train, X_test, Y_train, Y_test = train_test_split(X, Y, train_size=0.7)\n",
    "    ts = Y_test.shape[0]\n",
    "    rdf = RandomForestClassifier(max_depth=10, n_estimators=20)\n",
    "    rdf.fit(X_train,Y_train)\n",
    "\n",
    "    # Predicting\n",
    "    rdf_pred = rdf.predict(X_test)\n",
    "\n",
    "    # Finding mispredicted samples\n",
    "    rdf_verror = np.asarray([int(rdf_pred[i] != Y_test[i]) for i in range(0,ts)])\n",
    "    rdf_error = np.sum(rdf_verror)\n",
    "    rdf_ccidx = np.where(rdf_verror == 0)\n",
    "    rdf_mcidx = np.where(rdf_verror == 1)\n",
    "\n",
    "    rdf_results.append(rdf_error/float(ts))"
   ]
  },
  {
   "cell_type": "code",
   "execution_count": 96,
   "metadata": {
    "collapsed": false
   },
   "outputs": [
    {
     "name": "stdout",
     "output_type": "stream",
     "text": [
      "('miss-classified %age is ', 0.016435125711139649)\n"
     ]
    }
   ],
   "source": [
    "print ('miss-classified %age is ', (sum(rdf_results)/len(rdf_results)))"
   ]
  },
  {
   "cell_type": "code",
   "execution_count": 99,
   "metadata": {
    "collapsed": false
   },
   "outputs": [
    {
     "name": "stdout",
     "output_type": "stream",
     "text": [
      "99\n"
     ]
    }
   ],
   "source": [
    "# --------------------\n",
    "# Naive Bayes Classifier\n",
    "# --------------------\n",
    "nb_results = []\n",
    "for i in range(100):\n",
    "    clear_output()\n",
    "    print i\n",
    "    \n",
    "    X_train, X_test, Y_train, Y_test = train_test_split(X, Y, train_size=0.7)\n",
    "    ts = Y_test.shape[0]\n",
    "    nb = naive_bayes.GaussianNB()\n",
    "    nb.fit(X_train,Y_train)\n",
    "    \n",
    "    # Predicting\n",
    "    nb_pred = nb.predict(X_test)\n",
    "    \n",
    "    # Finding mispredicted samples\n",
    "    nb_verror = np.asarray([int(nb_pred[i] != Y_test[i]) for i in range(0,ts)])\n",
    "    nb_error = np.sum(nb_verror)\n",
    "    nb_ccidx = np.where(nb_verror == 0)\n",
    "    nb_mcidx = np.where(nb_verror == 1)\n",
    "\n",
    "    nb_results.append(nb_error/float(ts))"
   ]
  },
  {
   "cell_type": "code",
   "execution_count": 100,
   "metadata": {
    "collapsed": false
   },
   "outputs": [
    {
     "name": "stdout",
     "output_type": "stream",
     "text": [
      "('misclassified %age for Decision Tree is ', 2.0136722334373283, '%')\n",
      "('misclassified %age for bagging is ', 1.5800146815929526, '%')\n",
      "('misclassified %age for adaboost is ', 1.0763442833547439, '%')\n",
      "('misclassified %age for gradiant boosting is ', 1.4416406680124789, '%')\n",
      "('misclassified %age for Random Forest is ', 1.6435125711139649, '%')\n",
      "('misclassified %age for Navie Bayes is ', 20.888328133602503, '%')\n"
     ]
    }
   ],
   "source": [
    "print ('misclassified %age for Decision Tree is ', (sum(DTC_results)/len(DTC_results))*100, '%')\n",
    "print ('misclassified %age for bagging is ', (sum(bagb_results)/len(bagb_results))*100, '%')\n",
    "print ('misclassified %age for adaboost is ', (sum(adab_results)/len(adab_results))*100, '%')\n",
    "print ('misclassified %age for gradiant boosting is ', (sum(gradb_results)/len(gradb_results))*100, '%')\n",
    "print ('misclassified %age for Random Forest is ', (sum(rdf_results)/len(rdf_results))*100, '%')\n",
    "print ('misclassified %age for Navie Bayes is ', (sum(nb_results)/len(nb_results))*100, '%')"
   ]
  },
  {
   "cell_type": "code",
   "execution_count": null,
   "metadata": {
    "collapsed": true
   },
   "outputs": [],
   "source": []
  },
  {
   "cell_type": "code",
   "execution_count": null,
   "metadata": {
    "collapsed": true
   },
   "outputs": [],
   "source": []
  },
  {
   "cell_type": "code",
   "execution_count": 101,
   "metadata": {
    "collapsed": false
   },
   "outputs": [
    {
     "name": "stdout",
     "output_type": "stream",
     "text": [
      "max depth:  1  Error: 32.71 %\n",
      "max depth:  2  Error: 14.08 %\n",
      "max depth:  3  Error: 10.11 %\n",
      "max depth:  4  Error: 6.54 %\n",
      "max depth:  5  Error: 4.58 %\n",
      "max depth:  6  Error: 3.35 %\n",
      "max depth:  7  Error: 2.61 %\n",
      "max depth:  8  Error: 2.13 %\n",
      "max depth:  9  Error: 1.92 %\n",
      "max depth:  10  Error: 1.69 %\n",
      "max depth:  11  Error: 1.5 %\n",
      "max depth:  12  Error: 1.38 %\n",
      "max depth:  13  Error: 1.33 %\n",
      "max depth:  14  Error: 1.29 %\n",
      "max depth:  15  Error: 1.27 %\n",
      "max depth:  16  Error: 1.27 %\n",
      "max depth:  17  Error: 1.27 %\n",
      "max depth:  18  Error: 1.28 %\n",
      "max depth:  19  Error: 1.26 %\n"
     ]
    }
   ],
   "source": [
    "# --------------------\n",
    "# Random Forest Classifier\n",
    "# --------------------\n",
    "for k in np.arange(1,20,1):\n",
    "    rdf_results = []\n",
    "    for j in range(20):\n",
    "        \n",
    "        X_train, X_test, Y_train, Y_test = train_test_split(X, Y, train_size=0.6,  random_state=3)\n",
    "        rdf = RandomForestClassifier(max_depth=k, n_estimators=20)\n",
    "        ts = Y_test.shape[0]\n",
    "        rdf.fit(X_train,Y_train)\n",
    "\n",
    "        # Predicting\n",
    "        rdf_pred = rdf.predict(X_test)\n",
    "\n",
    "        # Finding mispredicted samples\n",
    "        rdf_verror = np.asarray([int(rdf_pred[i] != Y_test[i]) for i in range(0,ts)])\n",
    "        rdf_error = np.sum(rdf_verror)\n",
    "        rdf_ccidx = np.where(rdf_verror == 0)\n",
    "        rdf_mcidx = np.where(rdf_verror == 1)\n",
    "\n",
    "        rdf_results.append(rdf_error/float(ts))\n",
    "    print 'max depth: ',k, ' Error:', round((sum(rdf_results)/len(rdf_results))*100,2),'%'"
   ]
  },
  {
   "cell_type": "code",
   "execution_count": 68,
   "metadata": {
    "collapsed": false,
    "scrolled": true
   },
   "outputs": [
    {
     "name": "stdout",
     "output_type": "stream",
     "text": [
      "n_estimators:  1  Error: 4.56 %\n",
      "n_estimators:  2  Error: 3.41 %\n",
      "n_estimators:  3  Error: 2.94 %\n",
      "n_estimators:  4  Error: 2.73 %\n",
      "n_estimators:  5  Error: 2.56 %\n",
      "n_estimators:  6  Error: 2.48 %\n",
      "n_estimators:  7  Error: 2.37 %\n",
      "n_estimators:  8  Error: 2.39 %\n",
      "n_estimators:  9  Error: 2.33 %\n",
      "n_estimators:  10  Error: 2.32 %\n",
      "n_estimators:  11  Error: 2.29 %\n",
      "n_estimators:  12  Error: 2.22 %\n",
      "n_estimators:  13  Error: 2.26 %\n",
      "n_estimators:  14  Error: 2.22 %\n",
      "n_estimators:  15  Error: 2.23 %\n",
      "n_estimators:  16  Error: 2.23 %\n",
      "n_estimators:  17  Error: 2.21 %\n",
      "n_estimators:  18  Error: 2.2 %\n",
      "n_estimators:  19  Error: 2.17 %\n",
      "n_estimators:  20  Error: 2.18 %\n",
      "n_estimators:  21  Error: 2.17 %\n",
      "n_estimators:  22  Error: 2.16 %\n",
      "n_estimators:  23  Error: 2.15 %\n",
      "n_estimators:  24  Error: 2.17 %\n",
      "n_estimators:  25  Error: 2.17 %\n",
      "n_estimators:  26  Error: 2.16 %\n",
      "n_estimators:  27  Error: 2.14 %\n",
      "n_estimators:  28  Error: 2.16 %\n",
      "n_estimators:  29  Error: 2.12 %\n",
      "n_estimators:  30  Error: 2.16 %\n",
      "n_estimators:  31  Error: 2.13 %\n",
      "n_estimators:  32  Error: 2.12 %\n",
      "n_estimators:  33  Error: 2.13 %\n",
      "n_estimators:  34  Error: 2.16 %\n",
      "n_estimators:  35  Error: 2.14 %\n",
      "n_estimators:  36  Error: 2.11 %\n",
      "n_estimators:  37  Error: 2.14 %\n",
      "n_estimators:  38  Error: 2.12 %\n",
      "n_estimators:  39  Error: 2.11 %\n",
      "n_estimators:  40  Error: 2.11 %\n",
      "n_estimators:  41  Error: 2.09 %\n",
      "n_estimators:  42  Error: 2.11 %\n",
      "n_estimators:  43  Error: 2.1 %\n",
      "n_estimators:  44  Error: 2.11 %\n",
      "n_estimators:  45  Error: 2.1 %\n",
      "n_estimators:  46  Error: 2.1 %\n",
      "n_estimators:  47  Error: 2.08 %\n",
      "n_estimators:  48  Error: 2.11 %\n",
      "n_estimators:  49  Error: 2.1 %\n"
     ]
    }
   ],
   "source": [
    "# --------------------\n",
    "# Random Forest Classifier\n",
    "# --------------------\n",
    "for k in np.arange(1,50,1):\n",
    "    rdf_results = []\n",
    "    for j in range(20):\n",
    "        \n",
    "        X_train, X_test, Y_train, Y_test = train_test_split(X, Y, train_size=0.6,  random_state=3)\n",
    "        ts = Y_test.shape[0]\n",
    "        rdf = RandomForestClassifier(max_depth=8, n_estimators=k)\n",
    "        rdf.fit(X_train,Y_train)\n",
    "\n",
    "        # Predicting\n",
    "        rdf_pred = rdf.predict(X_test)\n",
    "\n",
    "        # Finding mispredicted samples\n",
    "        rdf_verror = np.asarray([int(rdf_pred[i] != Y_test[i]) for i in range(0,ts)])\n",
    "        rdf_error = np.sum(rdf_verror)\n",
    "        rdf_ccidx = np.where(rdf_verror == 0)\n",
    "        rdf_mcidx = np.where(rdf_verror == 1)\n",
    "\n",
    "        rdf_results.append(rdf_error/float(ts))\n",
    "    print 'n_estimators: ',k, ' Error:', round((sum(rdf_results)/len(rdf_results))*100,2),'%'"
   ]
  },
  {
   "cell_type": "code",
   "execution_count": 103,
   "metadata": {
    "collapsed": false
   },
   "outputs": [
    {
     "name": "stdout",
     "output_type": "stream",
     "text": [
      "99\n",
      "miss-classified %age is  0.0104321893925\n"
     ]
    }
   ],
   "source": [
    "# --------------------\n",
    "# Random Forest Classifier\n",
    "# --------------------\n",
    "rdf_results = []\n",
    "for j in range(100):\n",
    "    clear_output()\n",
    "    print j\n",
    "    X_train, X_test, Y_train, Y_test = train_test_split(X, Y, train_size=0.7, random_state=3)\n",
    "    ts = Y_test.shape[0]\n",
    "    rdf = RandomForestClassifier(max_depth=15, n_estimators=41)\n",
    "    rdf.fit(X_train,Y_train)\n",
    "\n",
    "    # Predicting\n",
    "    rdf_pred = rdf.predict(X_test)\n",
    "\n",
    "    # Finding mispredicted samples\n",
    "    rdf_verror = np.asarray([int(rdf_pred[i] != Y_test[i]) for i in range(0,ts)])\n",
    "    rdf_error = np.sum(rdf_verror)\n",
    "    rdf_ccidx = np.where(rdf_verror == 0)\n",
    "    rdf_mcidx = np.where(rdf_verror == 1)\n",
    "\n",
    "    rdf_results.append(rdf_error/float(ts))\n",
    "\n",
    "print 'miss-classified %age is ', (sum(rdf_results)/len(rdf_results))"
   ]
  },
  {
   "cell_type": "code",
   "execution_count": null,
   "metadata": {
    "collapsed": true
   },
   "outputs": [],
   "source": []
  },
  {
   "cell_type": "code",
   "execution_count": null,
   "metadata": {
    "collapsed": true
   },
   "outputs": [],
   "source": []
  }
 ],
 "metadata": {
  "anaconda-cloud": {},
  "kernelspec": {
   "display_name": "PUI2016_Python2",
   "language": "python",
   "name": "pui2016_python2"
  },
  "language_info": {
   "codemirror_mode": {
    "name": "ipython",
    "version": 2
   },
   "file_extension": ".py",
   "mimetype": "text/x-python",
   "name": "python",
   "nbconvert_exporter": "python",
   "pygments_lexer": "ipython2",
   "version": "2.7.12"
  }
 },
 "nbformat": 4,
 "nbformat_minor": 0
}
