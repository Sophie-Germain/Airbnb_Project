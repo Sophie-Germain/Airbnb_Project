{
 "cells": [
  {
   "cell_type": "markdown",
   "metadata": {},
   "source": [
    "## Setting up and reading data"
   ]
  },
  {
   "cell_type": "code",
   "execution_count": 1,
   "metadata": {
    "collapsed": false
   },
   "outputs": [
    {
     "name": "stderr",
     "output_type": "stream",
     "text": [
      "/opt/rh/anaconda/root/envs/PUI2016_Python2/lib/python2.7/site-packages/IPython/html.py:14: ShimWarning: The `IPython.html` package has been deprecated. You should import from `notebook` instead. `IPython.html.widgets` has moved to `ipywidgets`.\n",
      "  \"`IPython.html.widgets` has moved to `ipywidgets`.\", ShimWarning)\n"
     ]
    }
   ],
   "source": [
    "import pandas as pd\n",
    "import numpy as np\n",
    "import matplotlib.pyplot as plt\n",
    "#import seaborn\n",
    "from sklearn import naive_bayes\n",
    "from sklearn import svm\n",
    "from sklearn.cross_validation import train_test_split\n",
    "from pandas.tools.plotting import scatter_matrix\n",
    "from sklearn.tree import DecisionTreeClassifier\n",
    "from sklearn.ensemble import AdaBoostClassifier\n",
    "from sklearn.ensemble import GradientBoostingClassifier\n",
    "from sklearn.ensemble import RandomForestClassifier\n",
    "from sklearn.ensemble import BaggingClassifier\n",
    "from IPython.display import clear_output\n",
    "import csv\n",
    "import numpy as np\n",
    "import matplotlib.pyplot as plt\n",
    "import pandas as pd\n",
    "import geopandas as gpd\n",
    "%matplotlib inline\n",
    "import csv\n",
    "import matplotlib.pyplot as plt\n",
    "import numpy as np\n",
    "import pandas as pd\n",
    "from sklearn import naive_bayes\n",
    "from sklearn import svm\n",
    "from sklearn.cross_validation import train_test_split\n",
    "from sklearn import cluster\n",
    "#pd.options.display.max_rows = 999\n",
    "#pd.set_option('display.max_rows', 500)\n",
    "#pd.set_option('display.expand_frame_repr', False)\n",
    "from IPython.display import display\n",
    "pd.options.display.max_columns = None\n",
    "import seaborn as sns\n",
    "from sklearn.cluster import SpectralClustering\n",
    "from sklearn.cluster import KMeans\n",
    "from sklearn.cluster import AgglomerativeClustering\n",
    "from sklearn.neighbors import NearestNeighbors\n",
    "import time\n",
    "%matplotlib inline "
   ]
  },
  {
   "cell_type": "code",
   "execution_count": 2,
   "metadata": {
    "collapsed": false
   },
   "outputs": [],
   "source": [
    "df = gpd.GeoDataFrame.from_file('Data/jp-lustered.geojson')"
   ]
  },
  {
   "cell_type": "code",
   "execution_count": 3,
   "metadata": {
    "collapsed": false
   },
   "outputs": [
    {
     "data": {
      "text/html": [
       "<div>\n",
       "<table border=\"1\" class=\"dataframe\">\n",
       "  <thead>\n",
       "    <tr style=\"text-align: right;\">\n",
       "      <th></th>\n",
       "      <th>Entire_home/apt</th>\n",
       "      <th>Median_income</th>\n",
       "      <th>Median_rent</th>\n",
       "      <th>Private_room</th>\n",
       "      <th>Shared_room</th>\n",
       "      <th>accesstosubway</th>\n",
       "      <th>agglomerative</th>\n",
       "      <th>agglomerativeCat</th>\n",
       "      <th>availability_365</th>\n",
       "      <th>beer_count</th>\n",
       "      <th>boro_ct_2010</th>\n",
       "      <th>calculated_host_listings_count</th>\n",
       "      <th>coffee_count</th>\n",
       "      <th>connectivityScore</th>\n",
       "      <th>geometry</th>\n",
       "      <th>host_id</th>\n",
       "      <th>host_name</th>\n",
       "      <th>id</th>\n",
       "      <th>index_left</th>\n",
       "      <th>kmeans</th>\n",
       "      <th>kmeansCat</th>\n",
       "      <th>last_review</th>\n",
       "      <th>latitude</th>\n",
       "      <th>longitude</th>\n",
       "      <th>minimum_nights</th>\n",
       "      <th>name</th>\n",
       "      <th>neighbourhood</th>\n",
       "      <th>neighbourhood_group</th>\n",
       "      <th>number_of_reviews</th>\n",
       "      <th>price</th>\n",
       "      <th>reviews_per_month</th>\n",
       "      <th>room_type</th>\n",
       "      <th>spectral</th>\n",
       "      <th>spectralCat</th>\n",
       "    </tr>\n",
       "  </thead>\n",
       "  <tbody>\n",
       "    <tr>\n",
       "      <th>0</th>\n",
       "      <td>0</td>\n",
       "      <td>21855.0</td>\n",
       "      <td>1287.0</td>\n",
       "      <td>1</td>\n",
       "      <td>0</td>\n",
       "      <td>8.368050</td>\n",
       "      <td>2</td>\n",
       "      <td>2</td>\n",
       "      <td>242</td>\n",
       "      <td>0</td>\n",
       "      <td>2002400</td>\n",
       "      <td>10</td>\n",
       "      <td>0</td>\n",
       "      <td>0.0</td>\n",
       "      <td>POINT (-73.86406089014145 40.81274651012037)</td>\n",
       "      <td>525710</td>\n",
       "      <td>Libby</td>\n",
       "      <td>14880182</td>\n",
       "      <td>1.0</td>\n",
       "      <td>1</td>\n",
       "      <td>1</td>\n",
       "      <td>2017-02-08</td>\n",
       "      <td>40.812747</td>\n",
       "      <td>-73.864061</td>\n",
       "      <td>2</td>\n",
       "      <td>Community Living in the Heart &amp; Soul of NYC (3C)</td>\n",
       "      <td>Clason Point</td>\n",
       "      <td>Bronx</td>\n",
       "      <td>9</td>\n",
       "      <td>59</td>\n",
       "      <td>1.53</td>\n",
       "      <td>Private room</td>\n",
       "      <td>2</td>\n",
       "      <td>2</td>\n",
       "    </tr>\n",
       "    <tr>\n",
       "      <th>1</th>\n",
       "      <td>0</td>\n",
       "      <td>21855.0</td>\n",
       "      <td>1287.0</td>\n",
       "      <td>1</td>\n",
       "      <td>0</td>\n",
       "      <td>8.380864</td>\n",
       "      <td>2</td>\n",
       "      <td>2</td>\n",
       "      <td>365</td>\n",
       "      <td>0</td>\n",
       "      <td>2000200</td>\n",
       "      <td>10</td>\n",
       "      <td>0</td>\n",
       "      <td>0.0</td>\n",
       "      <td>POINT (-73.86381389361847 40.81293405229447)</td>\n",
       "      <td>525710</td>\n",
       "      <td>Libby</td>\n",
       "      <td>15359150</td>\n",
       "      <td>1.0</td>\n",
       "      <td>1</td>\n",
       "      <td>1</td>\n",
       "      <td>2017-02-10</td>\n",
       "      <td>40.812934</td>\n",
       "      <td>-73.863814</td>\n",
       "      <td>2</td>\n",
       "      <td>Private Room for 2, Community House NYC (2A)</td>\n",
       "      <td>Clason Point</td>\n",
       "      <td>Bronx</td>\n",
       "      <td>2</td>\n",
       "      <td>43</td>\n",
       "      <td>0.42</td>\n",
       "      <td>Private room</td>\n",
       "      <td>2</td>\n",
       "      <td>2</td>\n",
       "    </tr>\n",
       "    <tr>\n",
       "      <th>2</th>\n",
       "      <td>0</td>\n",
       "      <td>21855.0</td>\n",
       "      <td>1287.0</td>\n",
       "      <td>1</td>\n",
       "      <td>0</td>\n",
       "      <td>8.406552</td>\n",
       "      <td>2</td>\n",
       "      <td>2</td>\n",
       "      <td>336</td>\n",
       "      <td>0</td>\n",
       "      <td>2000200</td>\n",
       "      <td>10</td>\n",
       "      <td>0</td>\n",
       "      <td>0.0</td>\n",
       "      <td>POINT (-73.86370502873359 40.81359965937455)</td>\n",
       "      <td>525710</td>\n",
       "      <td>Libby</td>\n",
       "      <td>15359306</td>\n",
       "      <td>1.0</td>\n",
       "      <td>1</td>\n",
       "      <td>1</td>\n",
       "      <td>2017-01-09</td>\n",
       "      <td>40.813600</td>\n",
       "      <td>-73.863705</td>\n",
       "      <td>1</td>\n",
       "      <td>King sized bed + futon in Large Private Room  ...</td>\n",
       "      <td>Clason Point</td>\n",
       "      <td>Bronx</td>\n",
       "      <td>6</td>\n",
       "      <td>76</td>\n",
       "      <td>1.37</td>\n",
       "      <td>Private room</td>\n",
       "      <td>2</td>\n",
       "      <td>2</td>\n",
       "    </tr>\n",
       "  </tbody>\n",
       "</table>\n",
       "</div>"
      ],
      "text/plain": [
       "   Entire_home/apt  Median_income  Median_rent  Private_room  Shared_room  \\\n",
       "0                0        21855.0       1287.0             1            0   \n",
       "1                0        21855.0       1287.0             1            0   \n",
       "2                0        21855.0       1287.0             1            0   \n",
       "\n",
       "   accesstosubway  agglomerative agglomerativeCat  availability_365  \\\n",
       "0        8.368050              2                2               242   \n",
       "1        8.380864              2                2               365   \n",
       "2        8.406552              2                2               336   \n",
       "\n",
       "   beer_count boro_ct_2010  calculated_host_listings_count  coffee_count  \\\n",
       "0           0      2002400                              10             0   \n",
       "1           0      2000200                              10             0   \n",
       "2           0      2000200                              10             0   \n",
       "\n",
       "   connectivityScore                                      geometry  host_id  \\\n",
       "0                0.0  POINT (-73.86406089014145 40.81274651012037)   525710   \n",
       "1                0.0  POINT (-73.86381389361847 40.81293405229447)   525710   \n",
       "2                0.0  POINT (-73.86370502873359 40.81359965937455)   525710   \n",
       "\n",
       "  host_name        id  index_left  kmeans kmeansCat last_review   latitude  \\\n",
       "0     Libby  14880182         1.0       1         1  2017-02-08  40.812747   \n",
       "1     Libby  15359150         1.0       1         1  2017-02-10  40.812934   \n",
       "2     Libby  15359306         1.0       1         1  2017-01-09  40.813600   \n",
       "\n",
       "   longitude  minimum_nights  \\\n",
       "0 -73.864061               2   \n",
       "1 -73.863814               2   \n",
       "2 -73.863705               1   \n",
       "\n",
       "                                                name neighbourhood  \\\n",
       "0   Community Living in the Heart & Soul of NYC (3C)  Clason Point   \n",
       "1       Private Room for 2, Community House NYC (2A)  Clason Point   \n",
       "2  King sized bed + futon in Large Private Room  ...  Clason Point   \n",
       "\n",
       "  neighbourhood_group  number_of_reviews  price  reviews_per_month  \\\n",
       "0               Bronx                  9     59               1.53   \n",
       "1               Bronx                  2     43               0.42   \n",
       "2               Bronx                  6     76               1.37   \n",
       "\n",
       "      room_type  spectral spectralCat  \n",
       "0  Private room         2           2  \n",
       "1  Private room         2           2  \n",
       "2  Private room         2           2  "
      ]
     },
     "execution_count": 3,
     "metadata": {},
     "output_type": "execute_result"
    }
   ],
   "source": [
    "df.head(3)"
   ]
  },
  {
   "cell_type": "code",
   "execution_count": 4,
   "metadata": {
    "collapsed": false
   },
   "outputs": [
    {
     "data": {
      "text/plain": [
       "Entire_home/apt                     int64\n",
       "Median_income                     float64\n",
       "Median_rent                       float64\n",
       "Private_room                        int64\n",
       "Shared_room                         int64\n",
       "accesstosubway                    float64\n",
       "agglomerative                       int64\n",
       "agglomerativeCat                   object\n",
       "availability_365                    int64\n",
       "beer_count                          int64\n",
       "boro_ct_2010                       object\n",
       "calculated_host_listings_count      int64\n",
       "coffee_count                        int64\n",
       "connectivityScore                 float64\n",
       "geometry                           object\n",
       "host_id                             int64\n",
       "host_name                          object\n",
       "id                                 object\n",
       "index_left                        float64\n",
       "kmeans                              int64\n",
       "kmeansCat                          object\n",
       "last_review                        object\n",
       "latitude                          float64\n",
       "longitude                         float64\n",
       "minimum_nights                      int64\n",
       "name                               object\n",
       "neighbourhood                      object\n",
       "neighbourhood_group                object\n",
       "number_of_reviews                   int64\n",
       "price                               int64\n",
       "reviews_per_month                 float64\n",
       "room_type                          object\n",
       "spectral                            int64\n",
       "spectralCat                        object\n",
       "dtype: object"
      ]
     },
     "execution_count": 4,
     "metadata": {},
     "output_type": "execute_result"
    }
   ],
   "source": [
    "df.dtypes"
   ]
  },
  {
   "cell_type": "markdown",
   "metadata": {},
   "source": [
    "## Inspecting data and cleaning"
   ]
  },
  {
   "cell_type": "code",
   "execution_count": 5,
   "metadata": {
    "collapsed": false
   },
   "outputs": [
    {
     "data": {
      "text/html": [
       "<div>\n",
       "<table border=\"1\" class=\"dataframe\">\n",
       "  <thead>\n",
       "    <tr style=\"text-align: right;\">\n",
       "      <th></th>\n",
       "      <th>Entire_home/apt</th>\n",
       "      <th>Median_income</th>\n",
       "      <th>Median_rent</th>\n",
       "      <th>Private_room</th>\n",
       "      <th>Shared_room</th>\n",
       "      <th>accesstosubway</th>\n",
       "      <th>agglomerative</th>\n",
       "      <th>agglomerativeCat</th>\n",
       "      <th>availability_365</th>\n",
       "      <th>beer_count</th>\n",
       "      <th>boro_ct_2010</th>\n",
       "      <th>calculated_host_listings_count</th>\n",
       "      <th>coffee_count</th>\n",
       "      <th>connectivityScore</th>\n",
       "      <th>geometry</th>\n",
       "      <th>host_id</th>\n",
       "      <th>host_name</th>\n",
       "      <th>id</th>\n",
       "      <th>index_left</th>\n",
       "      <th>kmeans</th>\n",
       "      <th>kmeansCat</th>\n",
       "      <th>last_review</th>\n",
       "      <th>latitude</th>\n",
       "      <th>longitude</th>\n",
       "      <th>minimum_nights</th>\n",
       "      <th>name</th>\n",
       "      <th>neighbourhood</th>\n",
       "      <th>neighbourhood_group</th>\n",
       "      <th>number_of_reviews</th>\n",
       "      <th>price</th>\n",
       "      <th>reviews_per_month</th>\n",
       "      <th>room_type</th>\n",
       "      <th>spectral</th>\n",
       "    </tr>\n",
       "    <tr>\n",
       "      <th>spectralCat</th>\n",
       "      <th></th>\n",
       "      <th></th>\n",
       "      <th></th>\n",
       "      <th></th>\n",
       "      <th></th>\n",
       "      <th></th>\n",
       "      <th></th>\n",
       "      <th></th>\n",
       "      <th></th>\n",
       "      <th></th>\n",
       "      <th></th>\n",
       "      <th></th>\n",
       "      <th></th>\n",
       "      <th></th>\n",
       "      <th></th>\n",
       "      <th></th>\n",
       "      <th></th>\n",
       "      <th></th>\n",
       "      <th></th>\n",
       "      <th></th>\n",
       "      <th></th>\n",
       "      <th></th>\n",
       "      <th></th>\n",
       "      <th></th>\n",
       "      <th></th>\n",
       "      <th></th>\n",
       "      <th></th>\n",
       "      <th></th>\n",
       "      <th></th>\n",
       "      <th></th>\n",
       "      <th></th>\n",
       "      <th></th>\n",
       "      <th></th>\n",
       "    </tr>\n",
       "  </thead>\n",
       "  <tbody>\n",
       "    <tr>\n",
       "      <th>0</th>\n",
       "      <td>8243</td>\n",
       "      <td>8243</td>\n",
       "      <td>8243</td>\n",
       "      <td>8243</td>\n",
       "      <td>8243</td>\n",
       "      <td>8243</td>\n",
       "      <td>8243</td>\n",
       "      <td>8243</td>\n",
       "      <td>8243</td>\n",
       "      <td>8243</td>\n",
       "      <td>8243</td>\n",
       "      <td>8243</td>\n",
       "      <td>8243</td>\n",
       "      <td>8243</td>\n",
       "      <td>8243</td>\n",
       "      <td>8243</td>\n",
       "      <td>8239</td>\n",
       "      <td>8243</td>\n",
       "      <td>8243</td>\n",
       "      <td>8243</td>\n",
       "      <td>8243</td>\n",
       "      <td>6434</td>\n",
       "      <td>8243</td>\n",
       "      <td>8243</td>\n",
       "      <td>8243</td>\n",
       "      <td>8243</td>\n",
       "      <td>8243</td>\n",
       "      <td>8243</td>\n",
       "      <td>8243</td>\n",
       "      <td>8243</td>\n",
       "      <td>6434</td>\n",
       "      <td>8243</td>\n",
       "      <td>8243</td>\n",
       "    </tr>\n",
       "    <tr>\n",
       "      <th>1</th>\n",
       "      <td>14924</td>\n",
       "      <td>14924</td>\n",
       "      <td>14802</td>\n",
       "      <td>14924</td>\n",
       "      <td>14924</td>\n",
       "      <td>14924</td>\n",
       "      <td>14924</td>\n",
       "      <td>14924</td>\n",
       "      <td>14924</td>\n",
       "      <td>14924</td>\n",
       "      <td>14923</td>\n",
       "      <td>14924</td>\n",
       "      <td>14924</td>\n",
       "      <td>14924</td>\n",
       "      <td>14924</td>\n",
       "      <td>14924</td>\n",
       "      <td>14916</td>\n",
       "      <td>14924</td>\n",
       "      <td>14924</td>\n",
       "      <td>14924</td>\n",
       "      <td>14924</td>\n",
       "      <td>11602</td>\n",
       "      <td>14924</td>\n",
       "      <td>14924</td>\n",
       "      <td>14924</td>\n",
       "      <td>14924</td>\n",
       "      <td>14924</td>\n",
       "      <td>14924</td>\n",
       "      <td>14924</td>\n",
       "      <td>14924</td>\n",
       "      <td>11602</td>\n",
       "      <td>14924</td>\n",
       "      <td>14924</td>\n",
       "    </tr>\n",
       "    <tr>\n",
       "      <th>2</th>\n",
       "      <td>6188</td>\n",
       "      <td>6188</td>\n",
       "      <td>6188</td>\n",
       "      <td>6188</td>\n",
       "      <td>6188</td>\n",
       "      <td>6188</td>\n",
       "      <td>6188</td>\n",
       "      <td>6188</td>\n",
       "      <td>6188</td>\n",
       "      <td>6188</td>\n",
       "      <td>6187</td>\n",
       "      <td>6188</td>\n",
       "      <td>6188</td>\n",
       "      <td>6188</td>\n",
       "      <td>6188</td>\n",
       "      <td>6188</td>\n",
       "      <td>6185</td>\n",
       "      <td>6188</td>\n",
       "      <td>6188</td>\n",
       "      <td>6188</td>\n",
       "      <td>6188</td>\n",
       "      <td>4830</td>\n",
       "      <td>6188</td>\n",
       "      <td>6188</td>\n",
       "      <td>6188</td>\n",
       "      <td>6187</td>\n",
       "      <td>6188</td>\n",
       "      <td>6188</td>\n",
       "      <td>6188</td>\n",
       "      <td>6188</td>\n",
       "      <td>4830</td>\n",
       "      <td>6188</td>\n",
       "      <td>6188</td>\n",
       "    </tr>\n",
       "    <tr>\n",
       "      <th>3</th>\n",
       "      <td>6969</td>\n",
       "      <td>6969</td>\n",
       "      <td>6968</td>\n",
       "      <td>6969</td>\n",
       "      <td>6969</td>\n",
       "      <td>6969</td>\n",
       "      <td>6969</td>\n",
       "      <td>6969</td>\n",
       "      <td>6969</td>\n",
       "      <td>6969</td>\n",
       "      <td>6967</td>\n",
       "      <td>6969</td>\n",
       "      <td>6969</td>\n",
       "      <td>6969</td>\n",
       "      <td>6969</td>\n",
       "      <td>6969</td>\n",
       "      <td>6966</td>\n",
       "      <td>6969</td>\n",
       "      <td>6969</td>\n",
       "      <td>6969</td>\n",
       "      <td>6969</td>\n",
       "      <td>5408</td>\n",
       "      <td>6969</td>\n",
       "      <td>6969</td>\n",
       "      <td>6969</td>\n",
       "      <td>6969</td>\n",
       "      <td>6969</td>\n",
       "      <td>6969</td>\n",
       "      <td>6969</td>\n",
       "      <td>6969</td>\n",
       "      <td>5408</td>\n",
       "      <td>6969</td>\n",
       "      <td>6969</td>\n",
       "    </tr>\n",
       "  </tbody>\n",
       "</table>\n",
       "</div>"
      ],
      "text/plain": [
       "             Entire_home/apt  Median_income  Median_rent  Private_room  \\\n",
       "spectralCat                                                              \n",
       "0                       8243           8243         8243          8243   \n",
       "1                      14924          14924        14802         14924   \n",
       "2                       6188           6188         6188          6188   \n",
       "3                       6969           6969         6968          6969   \n",
       "\n",
       "             Shared_room  accesstosubway  agglomerative  agglomerativeCat  \\\n",
       "spectralCat                                                                 \n",
       "0                   8243            8243           8243              8243   \n",
       "1                  14924           14924          14924             14924   \n",
       "2                   6188            6188           6188              6188   \n",
       "3                   6969            6969           6969              6969   \n",
       "\n",
       "             availability_365  beer_count  boro_ct_2010  \\\n",
       "spectralCat                                               \n",
       "0                        8243        8243          8243   \n",
       "1                       14924       14924         14923   \n",
       "2                        6188        6188          6187   \n",
       "3                        6969        6969          6967   \n",
       "\n",
       "             calculated_host_listings_count  coffee_count  connectivityScore  \\\n",
       "spectralCat                                                                    \n",
       "0                                      8243          8243               8243   \n",
       "1                                     14924         14924              14924   \n",
       "2                                      6188          6188               6188   \n",
       "3                                      6969          6969               6969   \n",
       "\n",
       "             geometry  host_id  host_name     id  index_left  kmeans  \\\n",
       "spectralCat                                                            \n",
       "0                8243     8243       8239   8243        8243    8243   \n",
       "1               14924    14924      14916  14924       14924   14924   \n",
       "2                6188     6188       6185   6188        6188    6188   \n",
       "3                6969     6969       6966   6969        6969    6969   \n",
       "\n",
       "             kmeansCat  last_review  latitude  longitude  minimum_nights  \\\n",
       "spectralCat                                                                \n",
       "0                 8243         6434      8243       8243            8243   \n",
       "1                14924        11602     14924      14924           14924   \n",
       "2                 6188         4830      6188       6188            6188   \n",
       "3                 6969         5408      6969       6969            6969   \n",
       "\n",
       "              name  neighbourhood  neighbourhood_group  number_of_reviews  \\\n",
       "spectralCat                                                                 \n",
       "0             8243           8243                 8243               8243   \n",
       "1            14924          14924                14924              14924   \n",
       "2             6187           6188                 6188               6188   \n",
       "3             6969           6969                 6969               6969   \n",
       "\n",
       "             price  reviews_per_month  room_type  spectral  \n",
       "spectralCat                                                 \n",
       "0             8243               6434       8243      8243  \n",
       "1            14924              11602      14924     14924  \n",
       "2             6188               4830       6188      6188  \n",
       "3             6969               5408       6969      6969  "
      ]
     },
     "execution_count": 5,
     "metadata": {},
     "output_type": "execute_result"
    }
   ],
   "source": [
    "df.groupby(['spectralCat']).count()"
   ]
  },
  {
   "cell_type": "code",
   "execution_count": 6,
   "metadata": {
    "collapsed": false
   },
   "outputs": [
    {
     "data": {
      "text/plain": [
       "Index([               u'Entire_home/apt',                  u'Median_income',\n",
       "                          u'Median_rent',                   u'Private_room',\n",
       "                          u'Shared_room',                 u'accesstosubway',\n",
       "                        u'agglomerative',               u'agglomerativeCat',\n",
       "                     u'availability_365',                     u'beer_count',\n",
       "                         u'boro_ct_2010', u'calculated_host_listings_count',\n",
       "                         u'coffee_count',              u'connectivityScore',\n",
       "                             u'geometry',                        u'host_id',\n",
       "                            u'host_name',                             u'id',\n",
       "                           u'index_left',                         u'kmeans',\n",
       "                            u'kmeansCat',                    u'last_review',\n",
       "                             u'latitude',                      u'longitude',\n",
       "                       u'minimum_nights',                           u'name',\n",
       "                        u'neighbourhood',            u'neighbourhood_group',\n",
       "                    u'number_of_reviews',                          u'price',\n",
       "                    u'reviews_per_month',                      u'room_type',\n",
       "                             u'spectral',                    u'spectralCat'],\n",
       "      dtype='object')"
      ]
     },
     "execution_count": 6,
     "metadata": {},
     "output_type": "execute_result"
    }
   ],
   "source": [
    "df.columns"
   ]
  },
  {
   "cell_type": "code",
   "execution_count": 7,
   "metadata": {
    "collapsed": false
   },
   "outputs": [],
   "source": [
    "df_1 = df[[ u'spectralCat', u'Median_income',u'beer_count', u'coffee_count', u'connectivityScore', u'price']]\n",
    "            #u'reviews_per_month']]"
   ]
  },
  {
   "cell_type": "code",
   "execution_count": 8,
   "metadata": {
    "collapsed": false
   },
   "outputs": [
    {
     "data": {
      "text/html": [
       "<div>\n",
       "<table border=\"1\" class=\"dataframe\">\n",
       "  <thead>\n",
       "    <tr style=\"text-align: right;\">\n",
       "      <th></th>\n",
       "      <th>Median_income</th>\n",
       "      <th>beer_count</th>\n",
       "      <th>coffee_count</th>\n",
       "      <th>connectivityScore</th>\n",
       "      <th>price</th>\n",
       "    </tr>\n",
       "  </thead>\n",
       "  <tbody>\n",
       "    <tr>\n",
       "      <th>count</th>\n",
       "      <td>36324.000000</td>\n",
       "      <td>36324.000000</td>\n",
       "      <td>36324.000000</td>\n",
       "      <td>36324.000000</td>\n",
       "      <td>36324.000000</td>\n",
       "    </tr>\n",
       "    <tr>\n",
       "      <th>mean</th>\n",
       "      <td>50235.823808</td>\n",
       "      <td>0.405600</td>\n",
       "      <td>6.242429</td>\n",
       "      <td>79.558997</td>\n",
       "      <td>128.687562</td>\n",
       "    </tr>\n",
       "    <tr>\n",
       "      <th>std</th>\n",
       "      <td>36489.584342</td>\n",
       "      <td>0.773165</td>\n",
       "      <td>7.359190</td>\n",
       "      <td>65.852461</td>\n",
       "      <td>84.574034</td>\n",
       "    </tr>\n",
       "    <tr>\n",
       "      <th>min</th>\n",
       "      <td>4291.000000</td>\n",
       "      <td>0.000000</td>\n",
       "      <td>0.000000</td>\n",
       "      <td>0.000000</td>\n",
       "      <td>10.000000</td>\n",
       "    </tr>\n",
       "    <tr>\n",
       "      <th>25%</th>\n",
       "      <td>23142.000000</td>\n",
       "      <td>0.000000</td>\n",
       "      <td>1.000000</td>\n",
       "      <td>37.000000</td>\n",
       "      <td>70.000000</td>\n",
       "    </tr>\n",
       "    <tr>\n",
       "      <th>50%</th>\n",
       "      <td>39357.000000</td>\n",
       "      <td>0.000000</td>\n",
       "      <td>3.000000</td>\n",
       "      <td>61.000000</td>\n",
       "      <td>100.000000</td>\n",
       "    </tr>\n",
       "    <tr>\n",
       "      <th>75%</th>\n",
       "      <td>66060.000000</td>\n",
       "      <td>1.000000</td>\n",
       "      <td>10.000000</td>\n",
       "      <td>100.000000</td>\n",
       "      <td>165.000000</td>\n",
       "    </tr>\n",
       "    <tr>\n",
       "      <th>max</th>\n",
       "      <td>340545.000000</td>\n",
       "      <td>5.000000</td>\n",
       "      <td>35.000000</td>\n",
       "      <td>396.000000</td>\n",
       "      <td>500.000000</td>\n",
       "    </tr>\n",
       "  </tbody>\n",
       "</table>\n",
       "</div>"
      ],
      "text/plain": [
       "       Median_income    beer_count  coffee_count  connectivityScore  \\\n",
       "count   36324.000000  36324.000000  36324.000000       36324.000000   \n",
       "mean    50235.823808      0.405600      6.242429          79.558997   \n",
       "std     36489.584342      0.773165      7.359190          65.852461   \n",
       "min      4291.000000      0.000000      0.000000           0.000000   \n",
       "25%     23142.000000      0.000000      1.000000          37.000000   \n",
       "50%     39357.000000      0.000000      3.000000          61.000000   \n",
       "75%     66060.000000      1.000000     10.000000         100.000000   \n",
       "max    340545.000000      5.000000     35.000000         396.000000   \n",
       "\n",
       "              price  \n",
       "count  36324.000000  \n",
       "mean     128.687562  \n",
       "std       84.574034  \n",
       "min       10.000000  \n",
       "25%       70.000000  \n",
       "50%      100.000000  \n",
       "75%      165.000000  \n",
       "max      500.000000  "
      ]
     },
     "execution_count": 8,
     "metadata": {},
     "output_type": "execute_result"
    }
   ],
   "source": [
    "df_1.set_index(df['id'], inplace=True)\n",
    "df_1 = df_1\n",
    "df_1.describe()"
   ]
  },
  {
   "cell_type": "code",
   "execution_count": 9,
   "metadata": {
    "collapsed": false
   },
   "outputs": [
    {
     "name": "stderr",
     "output_type": "stream",
     "text": [
      "/opt/rh/anaconda/root/envs/PUI2016_Python2/lib/python2.7/site-packages/ipykernel/__main__.py:1: SettingWithCopyWarning: \n",
      "A value is trying to be set on a copy of a slice from a DataFrame\n",
      "\n",
      "See the caveats in the documentation: http://pandas.pydata.org/pandas-docs/stable/indexing.html#indexing-view-versus-copy\n",
      "  if __name__ == '__main__':\n"
     ]
    }
   ],
   "source": [
    "df_1.dropna(inplace=True)"
   ]
  },
  {
   "cell_type": "code",
   "execution_count": 11,
   "metadata": {
    "collapsed": false
   },
   "outputs": [
    {
     "data": {
      "text/html": [
       "<div>\n",
       "<table border=\"1\" class=\"dataframe\">\n",
       "  <thead>\n",
       "    <tr style=\"text-align: right;\">\n",
       "      <th></th>\n",
       "      <th>Median_income</th>\n",
       "      <th>beer_count</th>\n",
       "      <th>coffee_count</th>\n",
       "      <th>connectivityScore</th>\n",
       "      <th>price</th>\n",
       "    </tr>\n",
       "    <tr>\n",
       "      <th>spectralCat</th>\n",
       "      <th></th>\n",
       "      <th></th>\n",
       "      <th></th>\n",
       "      <th></th>\n",
       "      <th></th>\n",
       "    </tr>\n",
       "  </thead>\n",
       "  <tbody>\n",
       "    <tr>\n",
       "      <th>0</th>\n",
       "      <td>8243</td>\n",
       "      <td>8243</td>\n",
       "      <td>8243</td>\n",
       "      <td>8243</td>\n",
       "      <td>8243</td>\n",
       "    </tr>\n",
       "    <tr>\n",
       "      <th>1</th>\n",
       "      <td>14924</td>\n",
       "      <td>14924</td>\n",
       "      <td>14924</td>\n",
       "      <td>14924</td>\n",
       "      <td>14924</td>\n",
       "    </tr>\n",
       "    <tr>\n",
       "      <th>2</th>\n",
       "      <td>6188</td>\n",
       "      <td>6188</td>\n",
       "      <td>6188</td>\n",
       "      <td>6188</td>\n",
       "      <td>6188</td>\n",
       "    </tr>\n",
       "    <tr>\n",
       "      <th>3</th>\n",
       "      <td>6969</td>\n",
       "      <td>6969</td>\n",
       "      <td>6969</td>\n",
       "      <td>6969</td>\n",
       "      <td>6969</td>\n",
       "    </tr>\n",
       "  </tbody>\n",
       "</table>\n",
       "</div>"
      ],
      "text/plain": [
       "             Median_income  beer_count  coffee_count  connectivityScore  price\n",
       "spectralCat                                                                   \n",
       "0                     8243        8243          8243               8243   8243\n",
       "1                    14924       14924         14924              14924  14924\n",
       "2                     6188        6188          6188               6188   6188\n",
       "3                     6969        6969          6969               6969   6969"
      ]
     },
     "execution_count": 11,
     "metadata": {},
     "output_type": "execute_result"
    }
   ],
   "source": [
    "df_1.groupby(['spectralCat']).count()"
   ]
  },
  {
   "cell_type": "markdown",
   "metadata": {},
   "source": [
    "## Splitting data"
   ]
  },
  {
   "cell_type": "code",
   "execution_count": 12,
   "metadata": {
    "collapsed": true
   },
   "outputs": [],
   "source": [
    "df_x = df_1.ix[:,1:]\n",
    "df_y = df_1.ix[:,0]"
   ]
  },
  {
   "cell_type": "code",
   "execution_count": 13,
   "metadata": {
    "collapsed": false
   },
   "outputs": [
    {
     "data": {
      "text/plain": [
       "id\n",
       "14880182    2\n",
       "15359150    2\n",
       "15359306    2\n",
       "15244537    2\n",
       "15346892    2\n",
       "Name: spectralCat, dtype: object"
      ]
     },
     "execution_count": 13,
     "metadata": {},
     "output_type": "execute_result"
    }
   ],
   "source": [
    "df_y.head()"
   ]
  },
  {
   "cell_type": "code",
   "execution_count": 14,
   "metadata": {
    "collapsed": true
   },
   "outputs": [],
   "source": [
    "X = df_x.as_matrix()\n",
    "Y = df_y.as_matrix()"
   ]
  },
  {
   "cell_type": "markdown",
   "metadata": {},
   "source": [
    "## Normalize"
   ]
  },
  {
   "cell_type": "code",
   "execution_count": 15,
   "metadata": {
    "collapsed": false
   },
   "outputs": [],
   "source": [
    "#Xtmax = np.amax(X,axis=0)\n",
    "#X = np.divide(X,Xtmax)"
   ]
  },
  {
   "cell_type": "markdown",
   "metadata": {},
   "source": [
    "## Splitting to train and test (70:30)"
   ]
  },
  {
   "cell_type": "code",
   "execution_count": 16,
   "metadata": {
    "collapsed": false
   },
   "outputs": [],
   "source": [
    "X_train, X_test, Y_train, Y_test = train_test_split(X, Y, train_size=0.7, random_state=3)\n",
    "ts = Y_test.shape[0]"
   ]
  },
  {
   "cell_type": "markdown",
   "metadata": {},
   "source": [
    "## Cross Validation "
   ]
  },
  {
   "cell_type": "code",
   "execution_count": null,
   "metadata": {
    "collapsed": true
   },
   "outputs": [],
   "source": []
  },
  {
   "cell_type": "code",
   "execution_count": 17,
   "metadata": {
    "collapsed": false
   },
   "outputs": [
    {
     "name": "stdout",
     "output_type": "stream",
     "text": [
      "99\n"
     ]
    }
   ],
   "source": [
    "# --------------------\n",
    "# Decision Tree Classifier\n",
    "# --------------------\n",
    "DTC_results = []\n",
    "for j in range(100):\n",
    "    clear_output()\n",
    "    print j\n",
    "    X_train, X_test, Y_train, Y_test = train_test_split(X, Y, train_size=0.7)\n",
    "    ts = Y_test.shape[0]\n",
    "    # Train\n",
    "    dtc = DecisionTreeClassifier(max_depth=10)\n",
    "    dtc.fit(X_train, Y_train)\n",
    "\n",
    "    # Predicting\n",
    "    dtc_pred = dtc.predict(X_test)\n",
    "\n",
    "    # Finding mispredicted samples\n",
    "    dtc_verror = np.asarray([int(dtc_pred[i] != Y_test[i]) for i in range(0,ts)])\n",
    "    dtc_error = np.sum(dtc_verror)\n",
    "    dtc_ccidx = np.where(dtc_verror == 0)\n",
    "    dtc_mcidx = np.where(dtc_verror == 1)\n",
    "\n",
    "    DTC_results.append(dtc_error/float(ts))\n"
   ]
  },
  {
   "cell_type": "code",
   "execution_count": 18,
   "metadata": {
    "collapsed": false
   },
   "outputs": [
    {
     "name": "stdout",
     "output_type": "stream",
     "text": [
      "('miss-classified %age is ', 0.057918884198935573)\n"
     ]
    }
   ],
   "source": [
    "print ('miss-classified %age is ', (sum(DTC_results)/len(DTC_results)))"
   ]
  },
  {
   "cell_type": "code",
   "execution_count": null,
   "metadata": {
    "collapsed": true
   },
   "outputs": [],
   "source": []
  },
  {
   "cell_type": "code",
   "execution_count": 19,
   "metadata": {
    "collapsed": false
   },
   "outputs": [
    {
     "name": "stdout",
     "output_type": "stream",
     "text": [
      "99\n"
     ]
    }
   ],
   "source": [
    "# --------------------\n",
    "# Bagging Classifier\n",
    "# --------------------\n",
    "bagb_results = []\n",
    "for j in range(100):\n",
    "    clear_output()\n",
    "    print j\n",
    "    X_train, X_test, Y_train, Y_test = train_test_split(X, Y, train_size=0.7)\n",
    "    ts = Y_test.shape[0]\n",
    "    bagb = BaggingClassifier(DecisionTreeClassifier(max_depth=10), n_estimators=20)\n",
    "#adab = AdaBoostClassifier(DecisionTreeClassifier(max_depth=2), n_estimators=20,learning_rate=1.5,algorithm=\"SAMME\")\n",
    "    bagb.fit(X_train,Y_train)\n",
    "\n",
    "# Predicting\n",
    "    bagb_pred = bagb.predict(X_test)\n",
    "\n",
    "# Finding mispredicted samples\n",
    "    bagb_verror = np.asarray([int(bagb_pred[i] != Y_test[i]) for i in range(0,ts)])\n",
    "    bagb_error = np.sum(bagb_verror)\n",
    "    bagb_ccidx = np.where(bagb_verror == 0)\n",
    "    bagb_mcidx = np.where(bagb_verror == 1)\n",
    "\n",
    "    bagb_results.append(bagb_error/float(ts))"
   ]
  },
  {
   "cell_type": "code",
   "execution_count": 20,
   "metadata": {
    "collapsed": false
   },
   "outputs": [
    {
     "name": "stdout",
     "output_type": "stream",
     "text": [
      "('miss-classified %age is ', 0.050945127546338773)\n"
     ]
    }
   ],
   "source": [
    "print ('miss-classified %age is ', (sum(bagb_results)/len(bagb_results)))"
   ]
  },
  {
   "cell_type": "code",
   "execution_count": 21,
   "metadata": {
    "collapsed": false
   },
   "outputs": [
    {
     "name": "stdout",
     "output_type": "stream",
     "text": [
      "99\n"
     ]
    }
   ],
   "source": [
    "# --------------------\n",
    "# AdaBoost Classifier\n",
    "# --------------------\n",
    "\n",
    "adab_results = []\n",
    "for j in range(100):\n",
    "    clear_output()\n",
    "    print j\n",
    "    X_train, X_test, Y_train, Y_test = train_test_split(X, Y, train_size=0.7)\n",
    "    ts = Y_test.shape[0]\n",
    "    adab = AdaBoostClassifier(DecisionTreeClassifier(max_depth=10), n_estimators=20)\n",
    "    #adab = AdaBoostClassifier(DecisionTreeClassifier(max_depth=10), n_estimators=20,learning_rate=1.2,algorithm=\"SAMME\")\n",
    "    adab.fit(X_train,Y_train)\n",
    "\n",
    "    # Predicting\n",
    "    adab_pred = adab.predict(X_test)\n",
    "\n",
    "    # Finding mispredicted samples\n",
    "    adab_verror = np.asarray([int(adab_pred[i] != Y_test[i]) for i in range(0,ts)])\n",
    "    adab_error = np.sum(adab_verror)\n",
    "    adab_ccidx = np.where(adab_verror == 0)\n",
    "    adab_mcidx = np.where(adab_verror == 1)\n",
    "\n",
    "    adab_results.append(adab_error/float(ts))"
   ]
  },
  {
   "cell_type": "code",
   "execution_count": 22,
   "metadata": {
    "collapsed": false
   },
   "outputs": [
    {
     "name": "stdout",
     "output_type": "stream",
     "text": [
      "('miss-classified %age is ', 0.031352541750779971)\n"
     ]
    }
   ],
   "source": [
    "print ('miss-classified %age is ', (sum(adab_results)/len(adab_results)))"
   ]
  },
  {
   "cell_type": "code",
   "execution_count": null,
   "metadata": {
    "collapsed": true
   },
   "outputs": [],
   "source": []
  },
  {
   "cell_type": "code",
   "execution_count": 23,
   "metadata": {
    "collapsed": false
   },
   "outputs": [
    {
     "name": "stdout",
     "output_type": "stream",
     "text": [
      "99\n"
     ]
    }
   ],
   "source": [
    "# --------------------\n",
    "# Gradient Boosting Classifier\n",
    "# --------------------\n",
    "gradb_results = []\n",
    "for j in range(100):\n",
    "    clear_output()\n",
    "    print j\n",
    "    X_train, X_test, Y_train, Y_test = train_test_split(X, Y, train_size=0.7)\n",
    "    ts = Y_test.shape[0]\n",
    "    gradb = GradientBoostingClassifier(max_depth=10, n_estimators=20)\n",
    "    gradb.fit(X_train,Y_train)\n",
    "\n",
    "    # Predicting\n",
    "    gradb_pred = gradb.predict(X_test)\n",
    "\n",
    "    # Finding mispredicted samples\n",
    "    gradb_verror = np.asarray([int(gradb_pred[i] != Y_test[i]) for i in range(0,ts)])\n",
    "    gradb_error = np.sum(gradb_verror)\n",
    "    gradb_ccidx = np.where(gradb_verror == 0)\n",
    "    gradb_mcidx = np.where(gradb_verror == 1)\n",
    "\n",
    "\n",
    "    gradb_results.append(gradb_error/float(ts))\n"
   ]
  },
  {
   "cell_type": "code",
   "execution_count": 24,
   "metadata": {
    "collapsed": false
   },
   "outputs": [
    {
     "name": "stdout",
     "output_type": "stream",
     "text": [
      "('miss-classified %age is ', 0.029361350706551662)\n"
     ]
    }
   ],
   "source": [
    "print ('miss-classified %age is ', (sum(gradb_results)/len(gradb_results)))"
   ]
  },
  {
   "cell_type": "code",
   "execution_count": 25,
   "metadata": {
    "collapsed": false
   },
   "outputs": [
    {
     "name": "stdout",
     "output_type": "stream",
     "text": [
      "99\n"
     ]
    }
   ],
   "source": [
    "# --------------------\n",
    "# Random Forest Classifier\n",
    "# --------------------\n",
    "rdf_results = []\n",
    "for j in range(100):\n",
    "    clear_output()\n",
    "    print j\n",
    "    X_train, X_test, Y_train, Y_test = train_test_split(X, Y, train_size=0.7)\n",
    "    ts = Y_test.shape[0]\n",
    "    rdf = RandomForestClassifier(max_depth=10, n_estimators=20)\n",
    "    rdf.fit(X_train,Y_train)\n",
    "\n",
    "    # Predicting\n",
    "    rdf_pred = rdf.predict(X_test)\n",
    "\n",
    "    # Finding mispredicted samples\n",
    "    rdf_verror = np.asarray([int(rdf_pred[i] != Y_test[i]) for i in range(0,ts)])\n",
    "    rdf_error = np.sum(rdf_verror)\n",
    "    rdf_ccidx = np.where(rdf_verror == 0)\n",
    "    rdf_mcidx = np.where(rdf_verror == 1)\n",
    "\n",
    "    rdf_results.append(rdf_error/float(ts))"
   ]
  },
  {
   "cell_type": "code",
   "execution_count": 26,
   "metadata": {
    "collapsed": false
   },
   "outputs": [
    {
     "name": "stdout",
     "output_type": "stream",
     "text": [
      "('miss-classified %age is ', 0.052295834097999629)\n"
     ]
    }
   ],
   "source": [
    "print ('miss-classified %age is ', (sum(rdf_results)/len(rdf_results)))"
   ]
  },
  {
   "cell_type": "code",
   "execution_count": 28,
   "metadata": {
    "collapsed": false
   },
   "outputs": [
    {
     "name": "stdout",
     "output_type": "stream",
     "text": [
      "99\n"
     ]
    }
   ],
   "source": [
    "# --------------------\n",
    "# Naive Bayes Classifier\n",
    "# --------------------\n",
    "nb_results = []\n",
    "for i in range(100):\n",
    "    clear_output()\n",
    "    print i\n",
    "    \n",
    "    X_train, X_test, Y_train, Y_test = train_test_split(X, Y, train_size=0.7)\n",
    "    ts = Y_test.shape[0]\n",
    "    nb = naive_bayes.GaussianNB()\n",
    "    nb.fit(X_train,Y_train)\n",
    "    \n",
    "    # Predicting\n",
    "    nb_pred = nb.predict(X_test)\n",
    "    \n",
    "    # Finding mispredicted samples\n",
    "    nb_verror = np.asarray([int(nb_pred[i] != Y_test[i]) for i in range(0,ts)])\n",
    "    nb_error = np.sum(nb_verror)\n",
    "    nb_ccidx = np.where(nb_verror == 0)\n",
    "    nb_mcidx = np.where(nb_verror == 1)\n",
    "\n",
    "    nb_results.append(nb_error/float(ts))"
   ]
  },
  {
   "cell_type": "code",
   "execution_count": 29,
   "metadata": {
    "collapsed": false
   },
   "outputs": [
    {
     "name": "stdout",
     "output_type": "stream",
     "text": [
      "('misclassified %age for Decision Tree is ', 5.7918884198935574, '%')\n",
      "('misclassified %age for bagging is ', 5.0945127546338771, '%')\n",
      "('misclassified %age for adaboost is ', 3.1352541750779972, '%')\n",
      "('misclassified %age for gradiant boosting is ', 2.9361350706551663, '%')\n",
      "('misclassified %age for Random Forest is ', 5.2295834097999627, '%')\n",
      "('misclassified %age for Navie Bayes is ', 23.356670948797948, '%')\n"
     ]
    }
   ],
   "source": [
    "print ('misclassified %age for Decision Tree is ', (sum(DTC_results)/len(DTC_results))*100, '%')\n",
    "print ('misclassified %age for bagging is ', (sum(bagb_results)/len(bagb_results))*100, '%')\n",
    "print ('misclassified %age for adaboost is ', (sum(adab_results)/len(adab_results))*100, '%')\n",
    "print ('misclassified %age for gradiant boosting is ', (sum(gradb_results)/len(gradb_results))*100, '%')\n",
    "print ('misclassified %age for Random Forest is ', (sum(rdf_results)/len(rdf_results))*100, '%')\n",
    "print ('misclassified %age for Navie Bayes is ', (sum(nb_results)/len(nb_results))*100, '%')"
   ]
  },
  {
   "cell_type": "code",
   "execution_count": null,
   "metadata": {
    "collapsed": true
   },
   "outputs": [],
   "source": []
  },
  {
   "cell_type": "code",
   "execution_count": null,
   "metadata": {
    "collapsed": true
   },
   "outputs": [],
   "source": []
  },
  {
   "cell_type": "code",
   "execution_count": 30,
   "metadata": {
    "collapsed": false
   },
   "outputs": [
    {
     "name": "stdout",
     "output_type": "stream",
     "text": [
      "max depth:  1  Error: 40.27 %\n",
      "max depth:  2  Error: 35.49 %\n",
      "max depth:  3  Error: 26.94 %\n",
      "max depth:  4  Error: 17.74 %\n",
      "max depth:  5  Error: 13.65 %\n",
      "max depth:  6  Error: 11.11 %\n",
      "max depth:  7  Error: 7.94 %\n",
      "max depth:  8  Error: 6.75 %\n",
      "max depth:  9  Error: 6.03 %\n",
      "max depth:  10  Error: 5.46 %\n",
      "max depth:  11  Error: 4.73 %\n",
      "max depth:  12  Error: 4.2 %\n",
      "max depth:  13  Error: 3.65 %\n",
      "max depth:  14  Error: 3.25 %\n",
      "max depth:  15  Error: 3.0 %\n",
      "max depth:  16  Error: 2.83 %\n",
      "max depth:  17  Error: 2.7 %\n",
      "max depth:  18  Error: 2.68 %\n",
      "max depth:  19  Error: 2.66 %\n"
     ]
    }
   ],
   "source": [
    "# --------------------\n",
    "# Random Forest Classifier\n",
    "# --------------------\n",
    "for k in np.arange(1,20,1):\n",
    "    rdf_results = []\n",
    "    for j in range(20):\n",
    "        \n",
    "        X_train, X_test, Y_train, Y_test = train_test_split(X, Y, train_size=0.6,  random_state=3)\n",
    "        rdf = RandomForestClassifier(max_depth=k, n_estimators=20)\n",
    "        ts = Y_test.shape[0]\n",
    "        rdf.fit(X_train,Y_train)\n",
    "\n",
    "        # Predicting\n",
    "        rdf_pred = rdf.predict(X_test)\n",
    "\n",
    "        # Finding mispredicted samples\n",
    "        rdf_verror = np.asarray([int(rdf_pred[i] != Y_test[i]) for i in range(0,ts)])\n",
    "        rdf_error = np.sum(rdf_verror)\n",
    "        rdf_ccidx = np.where(rdf_verror == 0)\n",
    "        rdf_mcidx = np.where(rdf_verror == 1)\n",
    "\n",
    "        rdf_results.append(rdf_error/float(ts))\n",
    "    print 'max depth: ',k, ' Error:', round((sum(rdf_results)/len(rdf_results))*100,2),'%'"
   ]
  },
  {
   "cell_type": "code",
   "execution_count": 68,
   "metadata": {
    "collapsed": false,
    "scrolled": true
   },
   "outputs": [
    {
     "name": "stdout",
     "output_type": "stream",
     "text": [
      "n_estimators:  1  Error: 4.56 %\n",
      "n_estimators:  2  Error: 3.41 %\n",
      "n_estimators:  3  Error: 2.94 %\n",
      "n_estimators:  4  Error: 2.73 %\n",
      "n_estimators:  5  Error: 2.56 %\n",
      "n_estimators:  6  Error: 2.48 %\n",
      "n_estimators:  7  Error: 2.37 %\n",
      "n_estimators:  8  Error: 2.39 %\n",
      "n_estimators:  9  Error: 2.33 %\n",
      "n_estimators:  10  Error: 2.32 %\n",
      "n_estimators:  11  Error: 2.29 %\n",
      "n_estimators:  12  Error: 2.22 %\n",
      "n_estimators:  13  Error: 2.26 %\n",
      "n_estimators:  14  Error: 2.22 %\n",
      "n_estimators:  15  Error: 2.23 %\n",
      "n_estimators:  16  Error: 2.23 %\n",
      "n_estimators:  17  Error: 2.21 %\n",
      "n_estimators:  18  Error: 2.2 %\n",
      "n_estimators:  19  Error: 2.17 %\n",
      "n_estimators:  20  Error: 2.18 %\n",
      "n_estimators:  21  Error: 2.17 %\n",
      "n_estimators:  22  Error: 2.16 %\n",
      "n_estimators:  23  Error: 2.15 %\n",
      "n_estimators:  24  Error: 2.17 %\n",
      "n_estimators:  25  Error: 2.17 %\n",
      "n_estimators:  26  Error: 2.16 %\n",
      "n_estimators:  27  Error: 2.14 %\n",
      "n_estimators:  28  Error: 2.16 %\n",
      "n_estimators:  29  Error: 2.12 %\n",
      "n_estimators:  30  Error: 2.16 %\n",
      "n_estimators:  31  Error: 2.13 %\n",
      "n_estimators:  32  Error: 2.12 %\n",
      "n_estimators:  33  Error: 2.13 %\n",
      "n_estimators:  34  Error: 2.16 %\n",
      "n_estimators:  35  Error: 2.14 %\n",
      "n_estimators:  36  Error: 2.11 %\n",
      "n_estimators:  37  Error: 2.14 %\n",
      "n_estimators:  38  Error: 2.12 %\n",
      "n_estimators:  39  Error: 2.11 %\n",
      "n_estimators:  40  Error: 2.11 %\n",
      "n_estimators:  41  Error: 2.09 %\n",
      "n_estimators:  42  Error: 2.11 %\n",
      "n_estimators:  43  Error: 2.1 %\n",
      "n_estimators:  44  Error: 2.11 %\n",
      "n_estimators:  45  Error: 2.1 %\n",
      "n_estimators:  46  Error: 2.1 %\n",
      "n_estimators:  47  Error: 2.08 %\n",
      "n_estimators:  48  Error: 2.11 %\n",
      "n_estimators:  49  Error: 2.1 %\n"
     ]
    }
   ],
   "source": [
    "# --------------------\n",
    "# Random Forest Classifier\n",
    "# --------------------\n",
    "for k in np.arange(1,50,1):\n",
    "    rdf_results = []\n",
    "    for j in range(20):\n",
    "        \n",
    "        X_train, X_test, Y_train, Y_test = train_test_split(X, Y, train_size=0.6,  random_state=3)\n",
    "        ts = Y_test.shape[0]\n",
    "        rdf = RandomForestClassifier(max_depth=8, n_estimators=k)\n",
    "        rdf.fit(X_train,Y_train)\n",
    "\n",
    "        # Predicting\n",
    "        rdf_pred = rdf.predict(X_test)\n",
    "\n",
    "        # Finding mispredicted samples\n",
    "        rdf_verror = np.asarray([int(rdf_pred[i] != Y_test[i]) for i in range(0,ts)])\n",
    "        rdf_error = np.sum(rdf_verror)\n",
    "        rdf_ccidx = np.where(rdf_verror == 0)\n",
    "        rdf_mcidx = np.where(rdf_verror == 1)\n",
    "\n",
    "        rdf_results.append(rdf_error/float(ts))\n",
    "    print 'n_estimators: ',k, ' Error:', round((sum(rdf_results)/len(rdf_results))*100,2),'%'"
   ]
  },
  {
   "cell_type": "code",
   "execution_count": 69,
   "metadata": {
    "collapsed": false
   },
   "outputs": [
    {
     "name": "stdout",
     "output_type": "stream",
     "text": [
      "99\n",
      "miss-classified %age is  0.0125347556779\n"
     ]
    }
   ],
   "source": [
    "# --------------------\n",
    "# Random Forest Classifier\n",
    "# --------------------\n",
    "rdf_results = []\n",
    "for j in range(100):\n",
    "    clear_output()\n",
    "    print j\n",
    "    X_train, X_test, Y_train, Y_test = train_test_split(X, Y, train_size=0.6, random_state=3)\n",
    "    rdf = RandomForestClassifier(max_depth=14, n_estimators=36)\n",
    "    rdf.fit(X_train,Y_train)\n",
    "\n",
    "    # Predicting\n",
    "    rdf_pred = rdf.predict(X_test)\n",
    "\n",
    "    # Finding mispredicted samples\n",
    "    rdf_verror = np.asarray([int(rdf_pred[i] != Y_test[i]) for i in range(0,ts)])\n",
    "    rdf_error = np.sum(rdf_verror)\n",
    "    rdf_ccidx = np.where(rdf_verror == 0)\n",
    "    rdf_mcidx = np.where(rdf_verror == 1)\n",
    "\n",
    "    rdf_results.append(rdf_error/float(ts))\n",
    "\n",
    "print 'miss-classified %age is ', (sum(rdf_results)/len(rdf_results))"
   ]
  },
  {
   "cell_type": "code",
   "execution_count": null,
   "metadata": {
    "collapsed": true
   },
   "outputs": [],
   "source": []
  },
  {
   "cell_type": "code",
   "execution_count": null,
   "metadata": {
    "collapsed": true
   },
   "outputs": [],
   "source": []
  }
 ],
 "metadata": {
  "anaconda-cloud": {},
  "kernelspec": {
   "display_name": "PUI2016_Python2",
   "language": "python",
   "name": "pui2016_python2"
  },
  "language_info": {
   "codemirror_mode": {
    "name": "ipython",
    "version": 2
   },
   "file_extension": ".py",
   "mimetype": "text/x-python",
   "name": "python",
   "nbconvert_exporter": "python",
   "pygments_lexer": "ipython2",
   "version": "2.7.12"
  }
 },
 "nbformat": 4,
 "nbformat_minor": 0
}
