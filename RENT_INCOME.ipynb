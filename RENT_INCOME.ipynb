{
 "cells": [
  {
   "cell_type": "code",
   "execution_count": 1,
   "metadata": {
    "collapsed": true
   },
   "outputs": [],
   "source": [
    "from __future__ import print_function, division\n",
    "import pandas as pd\n",
    "import pylab as pl\n",
    "import os\n",
    "import csv\n",
    "from pandas.tools.plotting import scatter_matrix\n",
    "import sys\n",
    "reload(sys)\n",
    "import zipfile\n",
    "import geopandas as gpd\n",
    "import json\n",
    "sys.setdefaultencoding('utf-8')\n",
    "%pylab inline\n"
   ]
  },
  {
   "cell_type": "code",
   "execution_count": 2,
   "metadata": {
    "collapsed": false
   },
   "outputs": [
    {
     "data": {
      "text/html": [
       "<div>\n",
       "<table border=\"1\" class=\"dataframe\">\n",
       "  <thead>\n",
       "    <tr style=\"text-align: right;\">\n",
       "      <th></th>\n",
       "      <th>Unnamed: 0</th>\n",
       "      <th>GEO.id</th>\n",
       "      <th>GEO.id2</th>\n",
       "      <th>GEO.display-label</th>\n",
       "      <th>Median_rent</th>\n",
       "      <th>geometry</th>\n",
       "      <th>Median_income</th>\n",
       "    </tr>\n",
       "  </thead>\n",
       "  <tbody>\n",
       "    <tr>\n",
       "      <th>0</th>\n",
       "      <td>0</td>\n",
       "      <td>Id</td>\n",
       "      <td>Id2</td>\n",
       "      <td>Geography</td>\n",
       "      <td>Estimate; Median gross rent</td>\n",
       "      <td>NaN</td>\n",
       "      <td>Estimate; Per capita income in the past 12 mon...</td>\n",
       "    </tr>\n",
       "    <tr>\n",
       "      <th>1</th>\n",
       "      <td>1</td>\n",
       "      <td>1500000US360050001000</td>\n",
       "      <td>360050001000</td>\n",
       "      <td>Block Group 0, Census Tract 1, Bronx County, N...</td>\n",
       "      <td>NaN</td>\n",
       "      <td>POLYGON ((-73.892504 40.801206, -73.872264 40....</td>\n",
       "      <td>NaN</td>\n",
       "    </tr>\n",
       "    <tr>\n",
       "      <th>2</th>\n",
       "      <td>2</td>\n",
       "      <td>1500000US360050001001</td>\n",
       "      <td>360050001001</td>\n",
       "      <td>Block Group 1, Census Tract 1, Bronx County, N...</td>\n",
       "      <td>NaN</td>\n",
       "      <td>POLYGON ((-73.892866 40.790567, -73.89039 40.7...</td>\n",
       "      <td>2440</td>\n",
       "    </tr>\n",
       "    <tr>\n",
       "      <th>3</th>\n",
       "      <td>3</td>\n",
       "      <td>1500000US360050002000</td>\n",
       "      <td>360050002000</td>\n",
       "      <td>Block Group 0, Census Tract 2, Bronx County, N...</td>\n",
       "      <td>NaN</td>\n",
       "      <td>POLYGON ((-73.86270399999999 40.797276, -73.86...</td>\n",
       "      <td>NaN</td>\n",
       "    </tr>\n",
       "    <tr>\n",
       "      <th>4</th>\n",
       "      <td>4</td>\n",
       "      <td>1500000US360050002001</td>\n",
       "      <td>360050002001</td>\n",
       "      <td>Block Group 1, Census Tract 2, Bronx County, N...</td>\n",
       "      <td>1557</td>\n",
       "      <td>POLYGON ((-73.85772 40.813362, -73.85913699999...</td>\n",
       "      <td>20931</td>\n",
       "    </tr>\n",
       "  </tbody>\n",
       "</table>\n",
       "</div>"
      ],
      "text/plain": [
       "   Unnamed: 0                 GEO.id       GEO.id2  \\\n",
       "0           0                     Id           Id2   \n",
       "1           1  1500000US360050001000  360050001000   \n",
       "2           2  1500000US360050001001  360050001001   \n",
       "3           3  1500000US360050002000  360050002000   \n",
       "4           4  1500000US360050002001  360050002001   \n",
       "\n",
       "                                   GEO.display-label  \\\n",
       "0                                          Geography   \n",
       "1  Block Group 0, Census Tract 1, Bronx County, N...   \n",
       "2  Block Group 1, Census Tract 1, Bronx County, N...   \n",
       "3  Block Group 0, Census Tract 2, Bronx County, N...   \n",
       "4  Block Group 1, Census Tract 2, Bronx County, N...   \n",
       "\n",
       "                   Median_rent  \\\n",
       "0  Estimate; Median gross rent   \n",
       "1                          NaN   \n",
       "2                          NaN   \n",
       "3                          NaN   \n",
       "4                         1557   \n",
       "\n",
       "                                            geometry  \\\n",
       "0                                                NaN   \n",
       "1  POLYGON ((-73.892504 40.801206, -73.872264 40....   \n",
       "2  POLYGON ((-73.892866 40.790567, -73.89039 40.7...   \n",
       "3  POLYGON ((-73.86270399999999 40.797276, -73.86...   \n",
       "4  POLYGON ((-73.85772 40.813362, -73.85913699999...   \n",
       "\n",
       "                                       Median_income  \n",
       "0  Estimate; Per capita income in the past 12 mon...  \n",
       "1                                                NaN  \n",
       "2                                               2440  \n",
       "3                                                NaN  \n",
       "4                                              20931  "
      ]
     },
     "execution_count": 2,
     "metadata": {},
     "output_type": "execute_result"
    }
   ],
   "source": [
    "df_rein = pd.read_csv('Data/nyc_social.csv')\n",
    "df_rein.head()"
   ]
  },
  {
   "cell_type": "code",
   "execution_count": 3,
   "metadata": {
    "collapsed": true
   },
   "outputs": [],
   "source": [
    "df_rein.dropna(inplace=True)"
   ]
  },
  {
   "cell_type": "code",
   "execution_count": 4,
   "metadata": {
    "collapsed": false
   },
   "outputs": [
    {
     "data": {
      "text/html": [
       "<div>\n",
       "<table border=\"1\" class=\"dataframe\">\n",
       "  <thead>\n",
       "    <tr style=\"text-align: right;\">\n",
       "      <th></th>\n",
       "      <th>Unnamed: 0</th>\n",
       "      <th>GEO.id</th>\n",
       "      <th>GEO.id2</th>\n",
       "      <th>GEO.display-label</th>\n",
       "      <th>Median_rent</th>\n",
       "      <th>geometry</th>\n",
       "      <th>Median_income</th>\n",
       "    </tr>\n",
       "  </thead>\n",
       "  <tbody>\n",
       "    <tr>\n",
       "      <th>4</th>\n",
       "      <td>4</td>\n",
       "      <td>1500000US360050002001</td>\n",
       "      <td>360050002001</td>\n",
       "      <td>Block Group 1, Census Tract 2, Bronx County, N...</td>\n",
       "      <td>1557</td>\n",
       "      <td>POLYGON ((-73.85772 40.813362, -73.85913699999...</td>\n",
       "      <td>20931</td>\n",
       "    </tr>\n",
       "    <tr>\n",
       "      <th>5</th>\n",
       "      <td>5</td>\n",
       "      <td>1500000US360050002002</td>\n",
       "      <td>360050002002</td>\n",
       "      <td>Block Group 2, Census Tract 2, Bronx County, N...</td>\n",
       "      <td>1287</td>\n",
       "      <td>POLYGON ((-73.85913699999999 40.813171, -73.85...</td>\n",
       "      <td>21855</td>\n",
       "    </tr>\n",
       "    <tr>\n",
       "      <th>6</th>\n",
       "      <td>6</td>\n",
       "      <td>1500000US360050002003</td>\n",
       "      <td>360050002003</td>\n",
       "      <td>Block Group 3, Census Tract 2, Bronx County, N...</td>\n",
       "      <td>1243</td>\n",
       "      <td>POLYGON ((-73.855312 40.809329, -73.854417 40....</td>\n",
       "      <td>24709</td>\n",
       "    </tr>\n",
       "    <tr>\n",
       "      <th>8</th>\n",
       "      <td>8</td>\n",
       "      <td>1500000US360050004001</td>\n",
       "      <td>360050004001</td>\n",
       "      <td>Block Group 1, Census Tract 4, Bronx County, N...</td>\n",
       "      <td>1543</td>\n",
       "      <td>POLYGON ((-73.856291 40.813555, -73.8556179999...</td>\n",
       "      <td>15411</td>\n",
       "    </tr>\n",
       "    <tr>\n",
       "      <th>9</th>\n",
       "      <td>9</td>\n",
       "      <td>1500000US360050004002</td>\n",
       "      <td>360050004002</td>\n",
       "      <td>Block Group 2, Census Tract 4, Bronx County, N...</td>\n",
       "      <td>1411</td>\n",
       "      <td>POLYGON ((-73.85561799999999 40.810608, -73.85...</td>\n",
       "      <td>18834</td>\n",
       "    </tr>\n",
       "  </tbody>\n",
       "</table>\n",
       "</div>"
      ],
      "text/plain": [
       "   Unnamed: 0                 GEO.id       GEO.id2  \\\n",
       "4           4  1500000US360050002001  360050002001   \n",
       "5           5  1500000US360050002002  360050002002   \n",
       "6           6  1500000US360050002003  360050002003   \n",
       "8           8  1500000US360050004001  360050004001   \n",
       "9           9  1500000US360050004002  360050004002   \n",
       "\n",
       "                                   GEO.display-label Median_rent  \\\n",
       "4  Block Group 1, Census Tract 2, Bronx County, N...        1557   \n",
       "5  Block Group 2, Census Tract 2, Bronx County, N...        1287   \n",
       "6  Block Group 3, Census Tract 2, Bronx County, N...        1243   \n",
       "8  Block Group 1, Census Tract 4, Bronx County, N...        1543   \n",
       "9  Block Group 2, Census Tract 4, Bronx County, N...        1411   \n",
       "\n",
       "                                            geometry Median_income  \n",
       "4  POLYGON ((-73.85772 40.813362, -73.85913699999...         20931  \n",
       "5  POLYGON ((-73.85913699999999 40.813171, -73.85...         21855  \n",
       "6  POLYGON ((-73.855312 40.809329, -73.854417 40....         24709  \n",
       "8  POLYGON ((-73.856291 40.813555, -73.8556179999...         15411  \n",
       "9  POLYGON ((-73.85561799999999 40.810608, -73.85...         18834  "
      ]
     },
     "execution_count": 4,
     "metadata": {},
     "output_type": "execute_result"
    }
   ],
   "source": [
    "df_rein.head()"
   ]
  },
  {
   "cell_type": "code",
   "execution_count": 5,
   "metadata": {
    "collapsed": true
   },
   "outputs": [],
   "source": [
    "df_rein.reset_index(inplace=True)"
   ]
  },
  {
   "cell_type": "code",
   "execution_count": 6,
   "metadata": {
    "collapsed": false
   },
   "outputs": [
    {
     "ename": "TypeError",
     "evalue": "Input geometry column must contain valid geometry objects.",
     "output_type": "error",
     "traceback": [
      "\u001b[0;31m\u001b[0m",
      "\u001b[0;31mTypeError\u001b[0mTraceback (most recent call last)",
      "\u001b[0;32m<ipython-input-6-e6befd25ac4b>\u001b[0m in \u001b[0;36m<module>\u001b[0;34m()\u001b[0m\n\u001b[1;32m      1\u001b[0m \u001b[0;32mfrom\u001b[0m \u001b[0mgeopandas\u001b[0m \u001b[0;32mimport\u001b[0m \u001b[0mGeoDataFrame\u001b[0m\u001b[0;34m\u001b[0m\u001b[0m\n\u001b[0;32m----> 2\u001b[0;31m \u001b[0mdf_rein\u001b[0m \u001b[0;34m=\u001b[0m \u001b[0mGeoDataFrame\u001b[0m\u001b[0;34m(\u001b[0m\u001b[0mdf_rein\u001b[0m\u001b[0;34m,\u001b[0m \u001b[0mgeometry\u001b[0m\u001b[0;34m=\u001b[0m \u001b[0mdf_rein\u001b[0m\u001b[0;34m.\u001b[0m\u001b[0mgeometry\u001b[0m\u001b[0;34m)\u001b[0m\u001b[0;34m\u001b[0m\u001b[0m\n\u001b[0m",
      "\u001b[0;32m/opt/rh/anaconda/root/envs/PUI2016_Python2/lib/python2.7/site-packages/geopandas/geodataframe.pyc\u001b[0m in \u001b[0;36m__init__\u001b[0;34m(self, *args, **kwargs)\u001b[0m\n\u001b[1;32m     55\u001b[0m         \u001b[0mself\u001b[0m\u001b[0;34m.\u001b[0m\u001b[0mcrs\u001b[0m \u001b[0;34m=\u001b[0m \u001b[0mcrs\u001b[0m\u001b[0;34m\u001b[0m\u001b[0m\n\u001b[1;32m     56\u001b[0m         \u001b[0;32mif\u001b[0m \u001b[0mgeometry\u001b[0m \u001b[0;32mis\u001b[0m \u001b[0;32mnot\u001b[0m \u001b[0mNone\u001b[0m\u001b[0;34m:\u001b[0m\u001b[0;34m\u001b[0m\u001b[0m\n\u001b[0;32m---> 57\u001b[0;31m             \u001b[0mself\u001b[0m\u001b[0;34m.\u001b[0m\u001b[0mset_geometry\u001b[0m\u001b[0;34m(\u001b[0m\u001b[0mgeometry\u001b[0m\u001b[0;34m,\u001b[0m \u001b[0minplace\u001b[0m\u001b[0;34m=\u001b[0m\u001b[0mTrue\u001b[0m\u001b[0;34m)\u001b[0m\u001b[0;34m\u001b[0m\u001b[0m\n\u001b[0m\u001b[1;32m     58\u001b[0m         \u001b[0mself\u001b[0m\u001b[0;34m.\u001b[0m\u001b[0m_invalidate_sindex\u001b[0m\u001b[0;34m(\u001b[0m\u001b[0;34m)\u001b[0m\u001b[0;34m\u001b[0m\u001b[0m\n\u001b[1;32m     59\u001b[0m \u001b[0;34m\u001b[0m\u001b[0m\n",
      "\u001b[0;32m/opt/rh/anaconda/root/envs/PUI2016_Python2/lib/python2.7/site-packages/geopandas/geodataframe.pyc\u001b[0m in \u001b[0;36mset_geometry\u001b[0;34m(self, col, drop, inplace, crs)\u001b[0m\n\u001b[1;32m    154\u001b[0m         \u001b[0;31m# Check that we are using a listlike of geometries\u001b[0m\u001b[0;34m\u001b[0m\u001b[0;34m\u001b[0m\u001b[0m\n\u001b[1;32m    155\u001b[0m         \u001b[0;32mif\u001b[0m \u001b[0;32mnot\u001b[0m \u001b[0mall\u001b[0m\u001b[0;34m(\u001b[0m\u001b[0misinstance\u001b[0m\u001b[0;34m(\u001b[0m\u001b[0mitem\u001b[0m\u001b[0;34m,\u001b[0m \u001b[0mBaseGeometry\u001b[0m\u001b[0;34m)\u001b[0m \u001b[0;32mor\u001b[0m \u001b[0;32mnot\u001b[0m \u001b[0mitem\u001b[0m \u001b[0;32mfor\u001b[0m \u001b[0mitem\u001b[0m \u001b[0;32min\u001b[0m \u001b[0mlevel\u001b[0m\u001b[0;34m)\u001b[0m\u001b[0;34m:\u001b[0m\u001b[0;34m\u001b[0m\u001b[0m\n\u001b[0;32m--> 156\u001b[0;31m             \u001b[0;32mraise\u001b[0m \u001b[0mTypeError\u001b[0m\u001b[0;34m(\u001b[0m\u001b[0;34m\"Input geometry column must contain valid geometry objects.\"\u001b[0m\u001b[0;34m)\u001b[0m\u001b[0;34m\u001b[0m\u001b[0m\n\u001b[0m\u001b[1;32m    157\u001b[0m         \u001b[0mframe\u001b[0m\u001b[0;34m[\u001b[0m\u001b[0mgeo_column_name\u001b[0m\u001b[0;34m]\u001b[0m \u001b[0;34m=\u001b[0m \u001b[0mlevel\u001b[0m\u001b[0;34m\u001b[0m\u001b[0m\n\u001b[1;32m    158\u001b[0m         \u001b[0mframe\u001b[0m\u001b[0;34m.\u001b[0m\u001b[0m_geometry_column_name\u001b[0m \u001b[0;34m=\u001b[0m \u001b[0mgeo_column_name\u001b[0m\u001b[0;34m\u001b[0m\u001b[0m\n",
      "\u001b[0;31mTypeError\u001b[0m: Input geometry column must contain valid geometry objects."
     ]
    }
   ],
   "source": [
    "from geopandas import GeoDataFrame\n",
    "df_rein = GeoDataFrame(df_rein, geometry= df_rein.geometry)"
   ]
  },
  {
   "cell_type": "code",
   "execution_count": null,
   "metadata": {
    "collapsed": false
   },
   "outputs": [],
   "source": [
    "gdf = gpd.GeoDataFrame.from_file('Data/NYClisting.geojson')\n",
    "gdf.head()"
   ]
  },
  {
   "cell_type": "code",
   "execution_count": null,
   "metadata": {
    "collapsed": true
   },
   "outputs": [],
   "source": [
    "fin = gpd.sjoin(gdf, df_rein, how=\"inner\", op='intersects')\n",
    "fin"
   ]
  },
  {
   "cell_type": "code",
   "execution_count": null,
   "metadata": {
    "collapsed": true
   },
   "outputs": [],
   "source": []
  }
 ],
 "metadata": {
  "kernelspec": {
   "display_name": "PUI2016_Python2",
   "language": "python",
   "name": "pui2016_python2"
  },
  "language_info": {
   "codemirror_mode": {
    "name": "ipython",
    "version": 2
   },
   "file_extension": ".py",
   "mimetype": "text/x-python",
   "name": "python",
   "nbconvert_exporter": "python",
   "pygments_lexer": "ipython2",
   "version": "2.7.12"
  }
 },
 "nbformat": 4,
 "nbformat_minor": 0
}
